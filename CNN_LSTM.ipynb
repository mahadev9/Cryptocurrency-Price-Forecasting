{
  "cells": [
    {
      "cell_type": "code",
      "execution_count": 1,
      "id": "58ac92bb",
      "metadata": {
        "id": "58ac92bb"
      },
      "outputs": [],
      "source": [
        "import torch\n",
        "import torch.nn as nn\n",
        "from torch.utils.data import DataLoader\n",
        "\n",
        "import seaborn as sns\n",
        "import matplotlib.pyplot as plt\n",
        "\n",
        "from sklearn.preprocessing import MinMaxScaler\n",
        "\n",
        "from datetime import datetime\n",
        "\n",
        "from utility import *\n",
        "from model_utility import *"
      ]
    },
    {
      "cell_type": "code",
      "execution_count": 2,
      "id": "f7906fe8",
      "metadata": {
        "id": "f7906fe8"
      },
      "outputs": [],
      "source": [
        "LOOKBACK = 61\n",
        "TRAIN_SPLIT_RATIO = 0.9\n",
        "columns = [OPEN_INDEX, HIGH_INDEX, LOW_INDEX, CLOSE_INDEX, VOLUME_INDEX]"
      ]
    },
    {
      "cell_type": "code",
      "execution_count": 3,
      "id": "3a8ec2c6",
      "metadata": {
        "colab": {
          "base_uri": "https://localhost:8080/"
        },
        "id": "3a8ec2c6",
        "outputId": "ef26a877-5f4d-4b3f-ffb4-f7b534f2bc34"
      },
      "outputs": [
        {
          "name": "stdout",
          "output_type": "stream",
          "text": [
            "cuda\n"
          ]
        }
      ],
      "source": [
        "device = 'cuda' if torch.cuda.is_available() else 'cpu'\n",
        "print(device)"
      ]
    },
    {
      "cell_type": "code",
      "execution_count": 4,
      "id": "d764c38c",
      "metadata": {
        "colab": {
          "base_uri": "https://localhost:8080/"
        },
        "id": "d764c38c",
        "outputId": "9c5aa257-dff3-4910-d191-27d11038c84c"
      },
      "outputs": [
        {
          "name": "stdout",
          "output_type": "stream",
          "text": [
            "Found 1 symbols\n",
            "[1/1] - start download monthly BTCUSDT klines \n",
            "\n",
            "file already exists! /content/train/BTCUSDT/BTCUSDT-15m-2019-01.zip\n",
            "\n",
            "file already exists! /content/train/BTCUSDT/BTCUSDT-15m-2019-02.zip\n",
            "\n",
            "file already exists! /content/train/BTCUSDT/BTCUSDT-15m-2019-03.zip\n",
            "\n",
            "file already exists! /content/train/BTCUSDT/BTCUSDT-15m-2019-04.zip\n",
            "\n",
            "file already exists! /content/train/BTCUSDT/BTCUSDT-15m-2019-05.zip\n",
            "\n",
            "file already exists! /content/train/BTCUSDT/BTCUSDT-15m-2019-06.zip\n",
            "\n",
            "file already exists! /content/train/BTCUSDT/BTCUSDT-15m-2019-07.zip\n",
            "\n",
            "file already exists! /content/train/BTCUSDT/BTCUSDT-15m-2019-08.zip\n",
            "\n",
            "file already exists! /content/train/BTCUSDT/BTCUSDT-15m-2019-09.zip\n",
            "\n",
            "file already exists! /content/train/BTCUSDT/BTCUSDT-15m-2019-10.zip\n",
            "\n",
            "file already exists! /content/train/BTCUSDT/BTCUSDT-15m-2019-11.zip\n",
            "\n",
            "file already exists! /content/train/BTCUSDT/BTCUSDT-15m-2019-12.zip\n",
            "\n",
            "file already exists! /content/train/BTCUSDT/BTCUSDT-15m-2020-01.zip\n",
            "\n",
            "file already exists! /content/train/BTCUSDT/BTCUSDT-15m-2020-02.zip\n",
            "\n",
            "file already exists! /content/train/BTCUSDT/BTCUSDT-15m-2020-03.zip\n",
            "\n",
            "file already exists! /content/train/BTCUSDT/BTCUSDT-15m-2020-04.zip\n",
            "\n",
            "file already exists! /content/train/BTCUSDT/BTCUSDT-15m-2020-05.zip\n",
            "\n",
            "file already exists! /content/train/BTCUSDT/BTCUSDT-15m-2020-06.zip\n",
            "\n",
            "file already exists! /content/train/BTCUSDT/BTCUSDT-15m-2020-07.zip\n",
            "\n",
            "file already exists! /content/train/BTCUSDT/BTCUSDT-15m-2020-08.zip\n",
            "\n",
            "file already exists! /content/train/BTCUSDT/BTCUSDT-15m-2020-09.zip\n",
            "\n",
            "file already exists! /content/train/BTCUSDT/BTCUSDT-15m-2020-10.zip\n",
            "\n",
            "file already exists! /content/train/BTCUSDT/BTCUSDT-15m-2020-11.zip\n",
            "\n",
            "file already exists! /content/train/BTCUSDT/BTCUSDT-15m-2020-12.zip\n",
            "\n",
            "file already exists! /content/train/BTCUSDT/BTCUSDT-15m-2021-01.zip\n",
            "\n",
            "file already exists! /content/train/BTCUSDT/BTCUSDT-15m-2021-02.zip\n",
            "\n",
            "file already exists! /content/train/BTCUSDT/BTCUSDT-15m-2021-03.zip\n",
            "\n",
            "file already exists! /content/train/BTCUSDT/BTCUSDT-15m-2021-04.zip\n",
            "\n",
            "file already exists! /content/train/BTCUSDT/BTCUSDT-15m-2021-05.zip\n",
            "\n",
            "file already exists! /content/train/BTCUSDT/BTCUSDT-15m-2021-06.zip\n",
            "\n",
            "file already exists! /content/train/BTCUSDT/BTCUSDT-15m-2021-07.zip\n",
            "\n",
            "file already exists! /content/train/BTCUSDT/BTCUSDT-15m-2021-08.zip\n",
            "\n",
            "file already exists! /content/train/BTCUSDT/BTCUSDT-15m-2021-09.zip\n",
            "\n",
            "file already exists! /content/train/BTCUSDT/BTCUSDT-15m-2021-10.zip\n",
            "\n",
            "file already exists! /content/train/BTCUSDT/BTCUSDT-15m-2021-11.zip\n",
            "\n",
            "file already exists! /content/train/BTCUSDT/BTCUSDT-15m-2021-12.zip\n",
            "\n",
            "file already exists! /content/train/BTCUSDT/BTCUSDT-15m-2022-01.zip\n",
            "\n",
            "file already exists! /content/train/BTCUSDT/BTCUSDT-15m-2022-02.zip\n",
            "\n",
            "file already exists! /content/train/BTCUSDT/BTCUSDT-15m-2022-03.zip\n",
            "\n",
            "file already exists! /content/train/BTCUSDT/BTCUSDT-15m-2022-04.zip\n",
            "\n",
            "file already exists! /content/train/BTCUSDT/BTCUSDT-15m-2022-05.zip\n",
            "\n",
            "file already exists! /content/train/BTCUSDT/BTCUSDT-15m-2022-06.zip\n",
            "\n",
            "file already exists! /content/train/BTCUSDT/BTCUSDT-15m-2022-07.zip\n",
            "\n",
            "file already exists! /content/train/BTCUSDT/BTCUSDT-15m-2022-08.zip\n",
            "\n",
            "file already exists! /content/train/BTCUSDT/BTCUSDT-15m-2022-09.zip\n",
            "\n",
            "file already exists! /content/train/BTCUSDT/BTCUSDT-15m-2022-10.zip\n",
            "\n",
            "File not found: https://data.binance.vision/data/spot/monthly/klines/BTCUSDT/15m/BTCUSDT-15m-2022-11.zip\n"
          ]
        }
      ],
      "source": [
        "todays_date = datetime.now().strftime('%Y-%m-%d')\n",
        "download_monthly_klines('spot', ['BTCUSDT'], ['15m'], '2019-01-01', todays_date, 'train')"
      ]
    },
    {
      "cell_type": "code",
      "execution_count": 5,
      "id": "6e11d00c",
      "metadata": {
        "id": "6e11d00c"
      },
      "outputs": [],
      "source": [
        "dataframe = get_data('train', 'BTCUSDT')"
      ]
    },
    {
      "cell_type": "code",
      "execution_count": 6,
      "id": "592b704f",
      "metadata": {
        "id": "592b704f"
      },
      "outputs": [],
      "source": [
        "dataframe = dataframe[dataframe[IGNORE_INDEX] == 0]\n",
        "dataframe = dataframe[columns]\n",
        "\n",
        "scalers = {}\n",
        "for col in columns:\n",
        "    scaler = MinMaxScaler().fit(dataframe[[col]])\n",
        "    dataframe[col] = scaler.transform(dataframe[[col]])\n",
        "    scalers[col] = scaler"
      ]
    },
    {
      "cell_type": "code",
      "execution_count": 7,
      "id": "2d43fcfd",
      "metadata": {
        "colab": {
          "base_uri": "https://localhost:8080/"
        },
        "id": "2d43fcfd",
        "outputId": "f9e33516-ba62-44a6-c28f-96b97e6b0f06"
      },
      "outputs": [
        {
          "name": "stdout",
          "output_type": "stream",
          "text": [
            "x_train.shape = (120668, 60, 5)\n",
            "y_train.shape = (120668, 1)\n",
            "x_test.shape = (13407, 60, 5)\n",
            "y_test.shape = (13407, 1)\n"
          ]
        }
      ],
      "source": [
        "x_train, y_train, x_test, y_test = split_data(dataframe, LOOKBACK, TRAIN_SPLIT_RATIO)\n",
        "\n",
        "print('x_train.shape = {}'.format(x_train.shape))\n",
        "print('y_train.shape = {}'.format(y_train.shape))\n",
        "print('x_test.shape = {}'.format(x_test.shape))\n",
        "print('y_test.shape = {}'.format(y_test.shape))"
      ]
    },
    {
      "cell_type": "code",
      "execution_count": 8,
      "id": "43239a43",
      "metadata": {
        "id": "43239a43"
      },
      "outputs": [],
      "source": [
        "x_train = torch.tensor(x_train, dtype=torch.float)\n",
        "x_test = torch.tensor(x_test, dtype=torch.float)\n",
        "y_train = torch.tensor(y_train, dtype=torch.float)\n",
        "y_test = torch.tensor(y_test, dtype=torch.float)"
      ]
    },
    {
      "cell_type": "code",
      "execution_count": 9,
      "id": "4c641daf",
      "metadata": {
        "id": "4c641daf"
      },
      "outputs": [],
      "source": [
        "input_dim = x_train.shape[1]\n",
        "output_dim = 1\n",
        "\n",
        "batch_size = 1000"
      ]
    },
    {
      "cell_type": "code",
      "execution_count": 10,
      "id": "r7s5riVZqsib",
      "metadata": {
        "id": "r7s5riVZqsib"
      },
      "outputs": [],
      "source": [
        "train_dataset = CryptocurrencyDataset(x_train, y_train)\n",
        "train_loader = DataLoader(train_dataset, batch_size=batch_size)"
      ]
    },
    {
      "cell_type": "code",
      "execution_count": 11,
      "id": "nvFhUHg6q1rd",
      "metadata": {
        "id": "nvFhUHg6q1rd"
      },
      "outputs": [],
      "source": [
        "test_dataset = CryptocurrencyDataset(x_test, y_test)\n",
        "test_loader = DataLoader(test_dataset, batch_size=batch_size)"
      ]
    },
    {
      "cell_type": "code",
      "execution_count": 12,
      "id": "245196bc",
      "metadata": {
        "id": "245196bc"
      },
      "outputs": [],
      "source": [
        "class CNN_LSTM(nn.Module):\n",
        "    def __init__(self, input_shape, output_shape):\n",
        "        super(CNN_LSTM, self).__init__()\n",
        "        \n",
        "        self.conv1 = nn.Conv1d(5, 5, (5, 3))\n",
        "        self.lstm1 = nn.LSTM(58, 60)\n",
        "        self.fc1 = nn.Linear(60, 1)\n",
        "        self.fc2 = nn.Linear(5, 1)\n",
        "        \n",
        "    def observe_outputs(self, x):\n",
        "        x = self.conv1(x.T)\n",
        "        print('After conv1: {}'.format(x.size()))\n",
        "        \n",
        "        x, _ = self.lstm1(x)\n",
        "        print('After lstm1: {}'.format(x.size()))\n",
        "        \n",
        "        x = self.fc1(x)\n",
        "        print('After fc1: {}'.format(x.size()))\n",
        "\n",
        "        x = self.fc2(x.T)\n",
        "        print('After fc1: {}'.format(x.size()))\n",
        "        \n",
        "    def forward(self, x):\n",
        "        T_x, n_x, m = x.shape\n",
        "\n",
        "        output = torch.zeros((T_x, 1), device=device)\n",
        "        for t in range(T_x):\n",
        "            out = self.conv1(x[t].T)\n",
        "            out, _ = self.lstm1(out)\n",
        "            out = self.fc1(out)\n",
        "            out = self.fc2(out.T)\n",
        "            output[t, :] = out\n",
        "\n",
        "        return output      "
      ]
    },
    {
      "cell_type": "code",
      "execution_count": 13,
      "id": "79eb358f",
      "metadata": {
        "colab": {
          "base_uri": "https://localhost:8080/"
        },
        "id": "79eb358f",
        "outputId": "4fe6565c-2be4-4166-bd14-de9ca603257a"
      },
      "outputs": [
        {
          "name": "stdout",
          "output_type": "stream",
          "text": [
            "After conv1: torch.Size([5, 56])\n",
            "After lstm1: torch.Size([5, 60])\n",
            "After fc1: torch.Size([5, 1])\n",
            "After fc1: torch.Size([1, 1])\n"
          ]
        }
      ],
      "source": [
        "def test_forward():\n",
        "    cnn_lstm = CNN_LSTM(input_dim, output_dim).to(device)\n",
        "\n",
        "    x = torch.randn(16, 60, 5).to(device)\n",
        "    with torch.no_grad():\n",
        "        cnn_lstm.observe_outputs(x)\n",
        "\n",
        "test_forward()"
      ]
    },
    {
      "cell_type": "code",
      "execution_count": 14,
      "id": "ad7a8e21",
      "metadata": {
        "colab": {
          "base_uri": "https://localhost:8080/"
        },
        "id": "ad7a8e21",
        "outputId": "36a49c1c-35ea-4a5d-a791-6fd4644d1330"
      },
      "outputs": [
        {
          "name": "stdout",
          "output_type": "stream",
          "text": [
            "Total number of parameters: 28517\n"
          ]
        }
      ],
      "source": [
        "num_params = count_parameters(CNN_LSTM(input_dim, output_dim))\n",
        "print('Total number of parameters: {}'.format(num_params))"
      ]
    },
    {
      "cell_type": "code",
      "execution_count": 15,
      "id": "003acd33",
      "metadata": {
        "colab": {
          "base_uri": "https://localhost:8080/"
        },
        "id": "003acd33",
        "outputId": "2dacbc6b-cbaf-48d0-9309-ca36e20e4715"
      },
      "outputs": [
        {
          "name": "stdout",
          "output_type": "stream",
          "text": [
            "CNN_LSTM(\n",
            "  (conv1): Conv1d(5, 5, kernel_size=(5,), stride=(1,))\n",
            "  (lstm1): LSTM(56, 60)\n",
            "  (fc1): Linear(in_features=60, out_features=1, bias=True)\n",
            "  (fc2): Linear(in_features=5, out_features=1, bias=True)\n",
            ")\n"
          ]
        }
      ],
      "source": [
        "cnn_lstm = CNN_LSTM(input_dim, output_dim).to(device)\n",
        "\n",
        "optimizer = torch.optim.Adam(cnn_lstm.parameters(), lr=0.001)\n",
        "\n",
        "loss = nn.MSELoss()\n",
        "\n",
        "print(cnn_lstm)"
      ]
    },
    {
      "cell_type": "code",
      "execution_count": null,
      "id": "uvysQA00ojgY",
      "metadata": {
        "colab": {
          "base_uri": "https://localhost:8080/",
          "height": 395
        },
        "id": "uvysQA00ojgY",
        "outputId": "19da0e8a-16b2-4799-cf8e-8dc95fbda7fa"
      },
      "outputs": [
        {
          "name": "stderr",
          "output_type": "stream",
          "text": [
            "/usr/local/lib/python3.7/dist-packages/torch/nn/modules/loss.py:530: UserWarning: Using a target size (torch.Size([10000])) that is different to the input size (torch.Size([10000, 1])). This will likely lead to incorrect results due to broadcasting. Please ensure they have the same size.\n",
            "  return F.mse_loss(input, target, reduction=self.reduction)\n",
            "/usr/local/lib/python3.7/dist-packages/torch/nn/modules/loss.py:530: UserWarning: Using a target size (torch.Size([668])) that is different to the input size (torch.Size([668, 1])). This will likely lead to incorrect results due to broadcasting. Please ensure they have the same size.\n",
            "  return F.mse_loss(input, target, reduction=self.reduction)\n"
          ]
        },
        {
          "ename": "KeyboardInterrupt",
          "evalue": "ignored",
          "output_type": "error",
          "traceback": [
            "\u001b[0;31m---------------------------------------------------------------------------\u001b[0m",
            "\u001b[0;31mKeyboardInterrupt\u001b[0m                         Traceback (most recent call last)",
            "\u001b[0;32m<ipython-input-16-e54062892e9d>\u001b[0m in \u001b[0;36m<module>\u001b[0;34m\u001b[0m\n\u001b[0;32m----> 1\u001b[0;31m \u001b[0my_train_pred\u001b[0m\u001b[0;34m,\u001b[0m \u001b[0mhistory\u001b[0m \u001b[0;34m=\u001b[0m \u001b[0mmodel_train\u001b[0m\u001b[0;34m(\u001b[0m\u001b[0mcnn_lstm\u001b[0m\u001b[0;34m,\u001b[0m \u001b[0moptimizer\u001b[0m\u001b[0;34m,\u001b[0m \u001b[0mloss\u001b[0m\u001b[0;34m,\u001b[0m \u001b[0;36m10\u001b[0m\u001b[0;34m,\u001b[0m \u001b[0mtrain_loader\u001b[0m\u001b[0;34m,\u001b[0m \u001b[0mdevice\u001b[0m\u001b[0;34m)\u001b[0m\u001b[0;34m\u001b[0m\u001b[0;34m\u001b[0m\u001b[0m\n\u001b[0m",
            "\u001b[0;32m/content/model_utility.py\u001b[0m in \u001b[0;36mmodel_train\u001b[0;34m(model, optim, criterion, num_epochs, train_data, device)\u001b[0m\n\u001b[1;32m     43\u001b[0m \u001b[0;34m\u001b[0m\u001b[0m\n\u001b[1;32m     44\u001b[0m             \u001b[0moptim\u001b[0m\u001b[0;34m.\u001b[0m\u001b[0mzero_grad\u001b[0m\u001b[0;34m(\u001b[0m\u001b[0;34m)\u001b[0m\u001b[0;34m\u001b[0m\u001b[0;34m\u001b[0m\u001b[0m\n\u001b[0;32m---> 45\u001b[0;31m             \u001b[0mloss\u001b[0m\u001b[0;34m.\u001b[0m\u001b[0mbackward\u001b[0m\u001b[0;34m(\u001b[0m\u001b[0;34m)\u001b[0m\u001b[0;34m\u001b[0m\u001b[0;34m\u001b[0m\u001b[0m\n\u001b[0m\u001b[1;32m     46\u001b[0m             \u001b[0moptim\u001b[0m\u001b[0;34m.\u001b[0m\u001b[0mstep\u001b[0m\u001b[0;34m(\u001b[0m\u001b[0;34m)\u001b[0m\u001b[0;34m\u001b[0m\u001b[0;34m\u001b[0m\u001b[0m\n\u001b[1;32m     47\u001b[0m \u001b[0;34m\u001b[0m\u001b[0m\n",
            "\u001b[0;32m/usr/local/lib/python3.7/dist-packages/torch/_tensor.py\u001b[0m in \u001b[0;36mbackward\u001b[0;34m(self, gradient, retain_graph, create_graph, inputs)\u001b[0m\n\u001b[1;32m    394\u001b[0m                 \u001b[0mcreate_graph\u001b[0m\u001b[0;34m=\u001b[0m\u001b[0mcreate_graph\u001b[0m\u001b[0;34m,\u001b[0m\u001b[0;34m\u001b[0m\u001b[0;34m\u001b[0m\u001b[0m\n\u001b[1;32m    395\u001b[0m                 inputs=inputs)\n\u001b[0;32m--> 396\u001b[0;31m         \u001b[0mtorch\u001b[0m\u001b[0;34m.\u001b[0m\u001b[0mautograd\u001b[0m\u001b[0;34m.\u001b[0m\u001b[0mbackward\u001b[0m\u001b[0;34m(\u001b[0m\u001b[0mself\u001b[0m\u001b[0;34m,\u001b[0m \u001b[0mgradient\u001b[0m\u001b[0;34m,\u001b[0m \u001b[0mretain_graph\u001b[0m\u001b[0;34m,\u001b[0m \u001b[0mcreate_graph\u001b[0m\u001b[0;34m,\u001b[0m \u001b[0minputs\u001b[0m\u001b[0;34m=\u001b[0m\u001b[0minputs\u001b[0m\u001b[0;34m)\u001b[0m\u001b[0;34m\u001b[0m\u001b[0;34m\u001b[0m\u001b[0m\n\u001b[0m\u001b[1;32m    397\u001b[0m \u001b[0;34m\u001b[0m\u001b[0m\n\u001b[1;32m    398\u001b[0m     \u001b[0;32mdef\u001b[0m \u001b[0mregister_hook\u001b[0m\u001b[0;34m(\u001b[0m\u001b[0mself\u001b[0m\u001b[0;34m,\u001b[0m \u001b[0mhook\u001b[0m\u001b[0;34m)\u001b[0m\u001b[0;34m:\u001b[0m\u001b[0;34m\u001b[0m\u001b[0;34m\u001b[0m\u001b[0m\n",
            "\u001b[0;32m/usr/local/lib/python3.7/dist-packages/torch/autograd/__init__.py\u001b[0m in \u001b[0;36mbackward\u001b[0;34m(tensors, grad_tensors, retain_graph, create_graph, grad_variables, inputs)\u001b[0m\n\u001b[1;32m    173\u001b[0m     Variable._execution_engine.run_backward(  # Calls into the C++ engine to run the backward pass\n\u001b[1;32m    174\u001b[0m         \u001b[0mtensors\u001b[0m\u001b[0;34m,\u001b[0m \u001b[0mgrad_tensors_\u001b[0m\u001b[0;34m,\u001b[0m \u001b[0mretain_graph\u001b[0m\u001b[0;34m,\u001b[0m \u001b[0mcreate_graph\u001b[0m\u001b[0;34m,\u001b[0m \u001b[0minputs\u001b[0m\u001b[0;34m,\u001b[0m\u001b[0;34m\u001b[0m\u001b[0;34m\u001b[0m\u001b[0m\n\u001b[0;32m--> 175\u001b[0;31m         allow_unreachable=True, accumulate_grad=True)  # Calls into the C++ engine to run the backward pass\n\u001b[0m\u001b[1;32m    176\u001b[0m \u001b[0;34m\u001b[0m\u001b[0m\n\u001b[1;32m    177\u001b[0m def grad(\n",
            "\u001b[0;31mKeyboardInterrupt\u001b[0m: "
          ]
        }
      ],
      "source": [
        "y_train_pred, history = model_train(cnn_lstm, optimizer, loss, 10, train_loader, device)"
      ]
    },
    {
      "cell_type": "code",
      "execution_count": null,
      "id": "9_Fpr6hioyPw",
      "metadata": {
        "id": "9_Fpr6hioyPw"
      },
      "outputs": [],
      "source": [
        "y_test_pred = model_predictions(cnn_lstm, x_test, y_test, device)"
      ]
    },
    {
      "cell_type": "code",
      "execution_count": null,
      "id": "d76-P9TyrZ5B",
      "metadata": {
        "id": "d76-P9TyrZ5B"
      },
      "outputs": [],
      "source": [
        "rmse(y_train, y_train_pred, 'Train')\n",
        "rmse(y_test, y_test_pred, 'Test')"
      ]
    },
    {
      "cell_type": "code",
      "execution_count": null,
      "id": "qfdtY_cI56vZ",
      "metadata": {
        "id": "qfdtY_cI56vZ"
      },
      "outputs": [],
      "source": []
    }
  ],
  "metadata": {
    "accelerator": "GPU",
    "colab": {
      "collapsed_sections": [],
      "provenance": []
    },
    "gpuClass": "standard",
    "kernelspec": {
      "display_name": "Python 3.9.13 64-bit",
      "language": "python",
      "name": "python3"
    },
    "language_info": {
      "codemirror_mode": {
        "name": "ipython",
        "version": 3
      },
      "file_extension": ".py",
      "mimetype": "text/x-python",
      "name": "python",
      "nbconvert_exporter": "python",
      "pygments_lexer": "ipython3",
      "version": "3.9.13"
    },
    "vscode": {
      "interpreter": {
        "hash": "b8bdd4e700647ba2b08c59e5df8b7da1dcf50a218bcd4c1bcd9b3dc92e8788e5"
      }
    }
  },
  "nbformat": 4,
  "nbformat_minor": 5
}
