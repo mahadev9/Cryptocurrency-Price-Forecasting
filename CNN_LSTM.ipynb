{
 "cells": [
  {
   "cell_type": "code",
   "execution_count": 1,
   "id": "58ac92bb",
   "metadata": {
    "id": "58ac92bb"
   },
   "outputs": [],
   "source": [
    "import torch\n",
    "import torch.nn as nn\n",
    "from torch.utils.data import DataLoader\n",
    "\n",
    "import seaborn as sns\n",
    "import matplotlib.pyplot as plt\n",
    "\n",
    "from sklearn.preprocessing import MinMaxScaler\n",
    "\n",
    "from datetime import datetime\n",
    "\n",
    "from utility import *\n",
    "from model_utility import *"
   ]
  },
  {
   "cell_type": "code",
   "execution_count": 2,
   "id": "f7906fe8",
   "metadata": {
    "id": "f7906fe8"
   },
   "outputs": [],
   "source": [
    "LOOKBACK = 61\n",
    "TRAIN_SPLIT_RATIO = 0.9\n",
    "columns = [OPEN_INDEX, HIGH_INDEX, LOW_INDEX, CLOSE_INDEX, VOLUME_INDEX]"
   ]
  },
  {
   "cell_type": "code",
   "execution_count": 3,
   "id": "3a8ec2c6",
   "metadata": {
    "colab": {
     "base_uri": "https://localhost:8080/"
    },
    "id": "3a8ec2c6",
    "outputId": "22a99e9b-c448-4d2c-a1ee-5dfc553098a4"
   },
   "outputs": [
    {
     "name": "stdout",
     "output_type": "stream",
     "text": [
      "cpu\n"
     ]
    }
   ],
   "source": [
    "device = 'cuda' if torch.cuda.is_available() else 'cpu'\n",
    "print(device)"
   ]
  },
  {
   "cell_type": "code",
   "execution_count": 4,
   "id": "d764c38c",
   "metadata": {
    "colab": {
     "base_uri": "https://localhost:8080/"
    },
    "id": "d764c38c",
    "outputId": "59292af4-53b8-45cd-dad6-7989c561e4a0"
   },
   "outputs": [
    {
     "name": "stdout",
     "output_type": "stream",
     "text": [
      "Found 1 symbols\n",
      "[1/1] - start download monthly BTCUSDT klines \n",
      "\n",
      "file already exists! /Users/mahadevmaitri/Downloads/cisc684/Cryptocurrency-Price-Forecasting/train/BTCUSDT/BTCUSDT-15m-2019-01.zip\n",
      "\n",
      "file already exists! /Users/mahadevmaitri/Downloads/cisc684/Cryptocurrency-Price-Forecasting/train/BTCUSDT/BTCUSDT-15m-2019-02.zip\n",
      "\n",
      "file already exists! /Users/mahadevmaitri/Downloads/cisc684/Cryptocurrency-Price-Forecasting/train/BTCUSDT/BTCUSDT-15m-2019-03.zip\n",
      "\n",
      "file already exists! /Users/mahadevmaitri/Downloads/cisc684/Cryptocurrency-Price-Forecasting/train/BTCUSDT/BTCUSDT-15m-2019-04.zip\n",
      "\n",
      "file already exists! /Users/mahadevmaitri/Downloads/cisc684/Cryptocurrency-Price-Forecasting/train/BTCUSDT/BTCUSDT-15m-2019-05.zip\n",
      "\n",
      "file already exists! /Users/mahadevmaitri/Downloads/cisc684/Cryptocurrency-Price-Forecasting/train/BTCUSDT/BTCUSDT-15m-2019-06.zip\n",
      "\n",
      "file already exists! /Users/mahadevmaitri/Downloads/cisc684/Cryptocurrency-Price-Forecasting/train/BTCUSDT/BTCUSDT-15m-2019-07.zip\n",
      "\n",
      "file already exists! /Users/mahadevmaitri/Downloads/cisc684/Cryptocurrency-Price-Forecasting/train/BTCUSDT/BTCUSDT-15m-2019-08.zip\n",
      "\n",
      "file already exists! /Users/mahadevmaitri/Downloads/cisc684/Cryptocurrency-Price-Forecasting/train/BTCUSDT/BTCUSDT-15m-2019-09.zip\n",
      "\n",
      "file already exists! /Users/mahadevmaitri/Downloads/cisc684/Cryptocurrency-Price-Forecasting/train/BTCUSDT/BTCUSDT-15m-2019-10.zip\n",
      "\n",
      "file already exists! /Users/mahadevmaitri/Downloads/cisc684/Cryptocurrency-Price-Forecasting/train/BTCUSDT/BTCUSDT-15m-2019-11.zip\n",
      "\n",
      "file already exists! /Users/mahadevmaitri/Downloads/cisc684/Cryptocurrency-Price-Forecasting/train/BTCUSDT/BTCUSDT-15m-2019-12.zip\n",
      "\n",
      "file already exists! /Users/mahadevmaitri/Downloads/cisc684/Cryptocurrency-Price-Forecasting/train/BTCUSDT/BTCUSDT-15m-2020-01.zip\n",
      "\n",
      "file already exists! /Users/mahadevmaitri/Downloads/cisc684/Cryptocurrency-Price-Forecasting/train/BTCUSDT/BTCUSDT-15m-2020-02.zip\n",
      "\n",
      "file already exists! /Users/mahadevmaitri/Downloads/cisc684/Cryptocurrency-Price-Forecasting/train/BTCUSDT/BTCUSDT-15m-2020-03.zip\n",
      "\n",
      "file already exists! /Users/mahadevmaitri/Downloads/cisc684/Cryptocurrency-Price-Forecasting/train/BTCUSDT/BTCUSDT-15m-2020-04.zip\n",
      "\n",
      "file already exists! /Users/mahadevmaitri/Downloads/cisc684/Cryptocurrency-Price-Forecasting/train/BTCUSDT/BTCUSDT-15m-2020-05.zip\n",
      "\n",
      "file already exists! /Users/mahadevmaitri/Downloads/cisc684/Cryptocurrency-Price-Forecasting/train/BTCUSDT/BTCUSDT-15m-2020-06.zip\n",
      "\n",
      "file already exists! /Users/mahadevmaitri/Downloads/cisc684/Cryptocurrency-Price-Forecasting/train/BTCUSDT/BTCUSDT-15m-2020-07.zip\n",
      "\n",
      "file already exists! /Users/mahadevmaitri/Downloads/cisc684/Cryptocurrency-Price-Forecasting/train/BTCUSDT/BTCUSDT-15m-2020-08.zip\n",
      "\n",
      "file already exists! /Users/mahadevmaitri/Downloads/cisc684/Cryptocurrency-Price-Forecasting/train/BTCUSDT/BTCUSDT-15m-2020-09.zip\n",
      "\n",
      "file already exists! /Users/mahadevmaitri/Downloads/cisc684/Cryptocurrency-Price-Forecasting/train/BTCUSDT/BTCUSDT-15m-2020-10.zip\n",
      "\n",
      "file already exists! /Users/mahadevmaitri/Downloads/cisc684/Cryptocurrency-Price-Forecasting/train/BTCUSDT/BTCUSDT-15m-2020-11.zip\n",
      "\n",
      "file already exists! /Users/mahadevmaitri/Downloads/cisc684/Cryptocurrency-Price-Forecasting/train/BTCUSDT/BTCUSDT-15m-2020-12.zip\n",
      "\n",
      "file already exists! /Users/mahadevmaitri/Downloads/cisc684/Cryptocurrency-Price-Forecasting/train/BTCUSDT/BTCUSDT-15m-2021-01.zip\n",
      "\n",
      "file already exists! /Users/mahadevmaitri/Downloads/cisc684/Cryptocurrency-Price-Forecasting/train/BTCUSDT/BTCUSDT-15m-2021-02.zip\n",
      "\n",
      "file already exists! /Users/mahadevmaitri/Downloads/cisc684/Cryptocurrency-Price-Forecasting/train/BTCUSDT/BTCUSDT-15m-2021-03.zip\n",
      "\n",
      "file already exists! /Users/mahadevmaitri/Downloads/cisc684/Cryptocurrency-Price-Forecasting/train/BTCUSDT/BTCUSDT-15m-2021-04.zip\n",
      "\n",
      "file already exists! /Users/mahadevmaitri/Downloads/cisc684/Cryptocurrency-Price-Forecasting/train/BTCUSDT/BTCUSDT-15m-2021-05.zip\n",
      "\n",
      "file already exists! /Users/mahadevmaitri/Downloads/cisc684/Cryptocurrency-Price-Forecasting/train/BTCUSDT/BTCUSDT-15m-2021-06.zip\n",
      "\n",
      "file already exists! /Users/mahadevmaitri/Downloads/cisc684/Cryptocurrency-Price-Forecasting/train/BTCUSDT/BTCUSDT-15m-2021-07.zip\n",
      "\n",
      "file already exists! /Users/mahadevmaitri/Downloads/cisc684/Cryptocurrency-Price-Forecasting/train/BTCUSDT/BTCUSDT-15m-2021-08.zip\n",
      "\n",
      "file already exists! /Users/mahadevmaitri/Downloads/cisc684/Cryptocurrency-Price-Forecasting/train/BTCUSDT/BTCUSDT-15m-2021-09.zip\n",
      "\n",
      "file already exists! /Users/mahadevmaitri/Downloads/cisc684/Cryptocurrency-Price-Forecasting/train/BTCUSDT/BTCUSDT-15m-2021-10.zip\n",
      "\n",
      "file already exists! /Users/mahadevmaitri/Downloads/cisc684/Cryptocurrency-Price-Forecasting/train/BTCUSDT/BTCUSDT-15m-2021-11.zip\n",
      "\n",
      "file already exists! /Users/mahadevmaitri/Downloads/cisc684/Cryptocurrency-Price-Forecasting/train/BTCUSDT/BTCUSDT-15m-2021-12.zip\n",
      "\n",
      "file already exists! /Users/mahadevmaitri/Downloads/cisc684/Cryptocurrency-Price-Forecasting/train/BTCUSDT/BTCUSDT-15m-2022-01.zip\n",
      "\n",
      "file already exists! /Users/mahadevmaitri/Downloads/cisc684/Cryptocurrency-Price-Forecasting/train/BTCUSDT/BTCUSDT-15m-2022-02.zip\n",
      "\n",
      "file already exists! /Users/mahadevmaitri/Downloads/cisc684/Cryptocurrency-Price-Forecasting/train/BTCUSDT/BTCUSDT-15m-2022-03.zip\n",
      "\n",
      "file already exists! /Users/mahadevmaitri/Downloads/cisc684/Cryptocurrency-Price-Forecasting/train/BTCUSDT/BTCUSDT-15m-2022-04.zip\n",
      "\n",
      "file already exists! /Users/mahadevmaitri/Downloads/cisc684/Cryptocurrency-Price-Forecasting/train/BTCUSDT/BTCUSDT-15m-2022-05.zip\n",
      "\n",
      "file already exists! /Users/mahadevmaitri/Downloads/cisc684/Cryptocurrency-Price-Forecasting/train/BTCUSDT/BTCUSDT-15m-2022-06.zip\n",
      "\n",
      "file already exists! /Users/mahadevmaitri/Downloads/cisc684/Cryptocurrency-Price-Forecasting/train/BTCUSDT/BTCUSDT-15m-2022-07.zip\n",
      "\n",
      "file already exists! /Users/mahadevmaitri/Downloads/cisc684/Cryptocurrency-Price-Forecasting/train/BTCUSDT/BTCUSDT-15m-2022-08.zip\n",
      "\n",
      "file already exists! /Users/mahadevmaitri/Downloads/cisc684/Cryptocurrency-Price-Forecasting/train/BTCUSDT/BTCUSDT-15m-2022-09.zip\n",
      "\n",
      "file already exists! /Users/mahadevmaitri/Downloads/cisc684/Cryptocurrency-Price-Forecasting/train/BTCUSDT/BTCUSDT-15m-2022-10.zip\n",
      "\n",
      "File not found: https://data.binance.vision/data/spot/monthly/klines/BTCUSDT/15m/BTCUSDT-15m-2022-11.zip\n"
     ]
    }
   ],
   "source": [
    "todays_date = datetime.now().strftime('%Y-%m-%d')\n",
    "download_monthly_klines('spot', [BTC], ['15m'], '2019-01-01', todays_date, 'train')"
   ]
  },
  {
   "cell_type": "code",
   "execution_count": 5,
   "id": "6e11d00c",
   "metadata": {
    "id": "6e11d00c"
   },
   "outputs": [
    {
     "name": "stdout",
     "output_type": "stream",
     "text": [
      "train/BTCUSDT/BTCUSDT-15m-2019-01.csv\n",
      "train/BTCUSDT/BTCUSDT-15m-2019-02.csv\n",
      "train/BTCUSDT/BTCUSDT-15m-2019-03.csv\n",
      "train/BTCUSDT/BTCUSDT-15m-2019-04.csv\n",
      "train/BTCUSDT/BTCUSDT-15m-2019-05.csv\n",
      "train/BTCUSDT/BTCUSDT-15m-2019-06.csv\n",
      "train/BTCUSDT/BTCUSDT-15m-2019-07.csv\n",
      "train/BTCUSDT/BTCUSDT-15m-2019-08.csv\n",
      "train/BTCUSDT/BTCUSDT-15m-2019-09.csv\n",
      "train/BTCUSDT/BTCUSDT-15m-2019-10.csv\n",
      "train/BTCUSDT/BTCUSDT-15m-2019-11.csv\n",
      "train/BTCUSDT/BTCUSDT-15m-2019-12.csv\n",
      "train/BTCUSDT/BTCUSDT-15m-2020-01.csv\n",
      "train/BTCUSDT/BTCUSDT-15m-2020-02.csv\n",
      "train/BTCUSDT/BTCUSDT-15m-2020-03.csv\n",
      "train/BTCUSDT/BTCUSDT-15m-2020-04.csv\n",
      "train/BTCUSDT/BTCUSDT-15m-2020-05.csv\n",
      "train/BTCUSDT/BTCUSDT-15m-2020-06.csv\n",
      "train/BTCUSDT/BTCUSDT-15m-2020-07.csv\n",
      "train/BTCUSDT/BTCUSDT-15m-2020-08.csv\n",
      "train/BTCUSDT/BTCUSDT-15m-2020-09.csv\n",
      "train/BTCUSDT/BTCUSDT-15m-2020-10.csv\n",
      "train/BTCUSDT/BTCUSDT-15m-2020-11.csv\n",
      "train/BTCUSDT/BTCUSDT-15m-2020-12.csv\n",
      "train/BTCUSDT/BTCUSDT-15m-2021-01.csv\n",
      "train/BTCUSDT/BTCUSDT-15m-2021-02.csv\n",
      "train/BTCUSDT/BTCUSDT-15m-2021-03.csv\n",
      "train/BTCUSDT/BTCUSDT-15m-2021-04.csv\n",
      "train/BTCUSDT/BTCUSDT-15m-2021-05.csv\n",
      "train/BTCUSDT/BTCUSDT-15m-2021-06.csv\n",
      "train/BTCUSDT/BTCUSDT-15m-2021-07.csv\n",
      "train/BTCUSDT/BTCUSDT-15m-2021-08.csv\n",
      "train/BTCUSDT/BTCUSDT-15m-2021-09.csv\n",
      "train/BTCUSDT/BTCUSDT-15m-2021-10.csv\n",
      "train/BTCUSDT/BTCUSDT-15m-2021-11.csv\n",
      "train/BTCUSDT/BTCUSDT-15m-2021-12.csv\n",
      "train/BTCUSDT/BTCUSDT-15m-2022-01.csv\n",
      "train/BTCUSDT/BTCUSDT-15m-2022-02.csv\n",
      "train/BTCUSDT/BTCUSDT-15m-2022-03.csv\n",
      "train/BTCUSDT/BTCUSDT-15m-2022-04.csv\n",
      "train/BTCUSDT/BTCUSDT-15m-2022-05.csv\n",
      "train/BTCUSDT/BTCUSDT-15m-2022-06.csv\n",
      "train/BTCUSDT/BTCUSDT-15m-2022-07.csv\n",
      "train/BTCUSDT/BTCUSDT-15m-2022-08.csv\n",
      "train/BTCUSDT/BTCUSDT-15m-2022-09.csv\n",
      "train/BTCUSDT/BTCUSDT-15m-2022-10.csv\n"
     ]
    }
   ],
   "source": [
    "dataframe = get_data('train', BTC)"
   ]
  },
  {
   "cell_type": "code",
   "execution_count": null,
   "id": "e051f78b",
   "metadata": {},
   "outputs": [],
   "source": [
    "dataframe = dataframe[dataframe[IGNORE_INDEX] == 0]\n",
    "plot_graph(pd.DataFrame(dataframe[CLOSE_INDEX].values))"
   ]
  },
  {
   "cell_type": "code",
   "execution_count": null,
   "id": "592b704f",
   "metadata": {
    "id": "592b704f"
   },
   "outputs": [],
   "source": [
    "dataframe = dataframe[columns]\n",
    "\n",
    "scalers = {}\n",
    "for col in columns:\n",
    "    scaler = MinMaxScaler().fit(dataframe[[col]])\n",
    "    dataframe[col] = scaler.transform(dataframe[[col]])\n",
    "    scalers[col] = scaler"
   ]
  },
  {
   "cell_type": "code",
   "execution_count": null,
   "id": "2d43fcfd",
   "metadata": {
    "colab": {
     "base_uri": "https://localhost:8080/"
    },
    "id": "2d43fcfd",
    "outputId": "3d2e63e8-9207-42f0-abd8-f04183f300bd"
   },
   "outputs": [],
   "source": [
    "x_train, y_train, x_test, y_test = split_data(dataframe, LOOKBACK, TRAIN_SPLIT_RATIO, CLOSE_INDEX-1)\n",
    "\n",
    "print('x_train.shape = {}'.format(x_train.shape))\n",
    "print('y_train.shape = {}'.format(y_train.shape))\n",
    "print('x_test.shape = {}'.format(x_test.shape))\n",
    "print('y_test.shape = {}'.format(y_test.shape))"
   ]
  },
  {
   "cell_type": "code",
   "execution_count": null,
   "id": "43239a43",
   "metadata": {
    "id": "43239a43"
   },
   "outputs": [],
   "source": [
    "x_train = torch.tensor(x_train, dtype=torch.float)\n",
    "x_test = torch.tensor(x_test, dtype=torch.float)\n",
    "y_train = torch.tensor(y_train, dtype=torch.float)\n",
    "y_test = torch.tensor(y_test, dtype=torch.float)"
   ]
  },
  {
   "cell_type": "code",
   "execution_count": null,
   "id": "4c641daf",
   "metadata": {
    "id": "4c641daf"
   },
   "outputs": [],
   "source": [
    "input_dim = x_train.shape[1]\n",
    "output_dim = 1\n",
    "\n",
    "batch_size = 1000"
   ]
  },
  {
   "cell_type": "code",
   "execution_count": null,
   "id": "r7s5riVZqsib",
   "metadata": {
    "id": "r7s5riVZqsib"
   },
   "outputs": [],
   "source": [
    "train_dataset = CryptocurrencyDataset(x_train, y_train)\n",
    "train_loader = DataLoader(train_dataset, batch_size=batch_size)"
   ]
  },
  {
   "cell_type": "code",
   "execution_count": null,
   "id": "nvFhUHg6q1rd",
   "metadata": {
    "id": "nvFhUHg6q1rd"
   },
   "outputs": [],
   "source": [
    "test_dataset = CryptocurrencyDataset(x_test, y_test)\n",
    "test_loader = DataLoader(test_dataset, batch_size=batch_size)"
   ]
  },
  {
   "cell_type": "code",
   "execution_count": null,
   "id": "245196bc",
   "metadata": {
    "id": "245196bc"
   },
   "outputs": [],
   "source": [
    "class CNN_LSTM(nn.Module):\n",
    "    def __init__(self, input_shape, output_shape):\n",
    "        super(CNN_LSTM, self).__init__()\n",
    "        \n",
    "        self.conv1 = nn.Conv1d(60, 128, 3)\n",
    "        self.relu1 = nn.ReLU()\n",
    "        self.conv2 = nn.Conv1d(128, 256, 3)\n",
    "        self.relu2 = nn.ReLU()\n",
    "        self.lstm1 = nn.LSTM(1, 64)\n",
    "        self.fc1 = nn.Linear(64, 1)\n",
    "        self.lstm2 = nn.LSTM(256, 1)\n",
    "        self.fc2 = nn.Linear(1, 1)\n",
    "        \n",
    "    def observe_outputs(self, x):\n",
    "        x = self.conv1(x)\n",
    "        x = self.relu1(x)\n",
    "        print('After conv1: {}'.format(x.size()))\n",
    "\n",
    "        x = self.conv2(x)\n",
    "        x = self.relu2(x)\n",
    "        print('After conv2: {}'.format(x.size()))\n",
    "        \n",
    "        x, _ = self.lstm1(x)\n",
    "        print('After lstm1: {}'.format(x.size()))\n",
    "        \n",
    "        x = self.fc1(x)\n",
    "        print('After fc1: {}'.format(x.size()))\n",
    "\n",
    "        x, _ = self.lstm2(x.T)\n",
    "        print('After lstm2: {}'.format(x.size()))\n",
    "\n",
    "        x = self.fc2(x)\n",
    "        print('After fc2: {}'.format(x.size()))\n",
    "        \n",
    "    def forward(self, x):\n",
    "        T_x, n_x, m = x.shape\n",
    "\n",
    "        output = torch.zeros((T_x, 1), device=device)\n",
    "        for t in range(T_x):\n",
    "            out = self.conv1(x[t])\n",
    "            out = self.relu1(out)\n",
    "            out = self.conv2(out)\n",
    "            out = self.relu2(out)\n",
    "            out, _ = self.lstm1(out)\n",
    "            out = self.fc1(out)\n",
    "            out, _ = self.lstm2(out.T)\n",
    "            out = self.fc2(out)\n",
    "            output[t, :] = out\n",
    "\n",
    "        return output"
   ]
  },
  {
   "cell_type": "code",
   "execution_count": null,
   "id": "79eb358f",
   "metadata": {
    "colab": {
     "base_uri": "https://localhost:8080/"
    },
    "id": "79eb358f",
    "outputId": "8441415a-6a54-4f93-fe46-e2a87652bddf"
   },
   "outputs": [],
   "source": [
    "def test_forward():\n",
    "    cnn_lstm = CNN_LSTM(input_dim, output_dim).to(device)\n",
    "\n",
    "    x = torch.randn(60, 5).to(device)\n",
    "    with torch.no_grad():\n",
    "        cnn_lstm.observe_outputs(x)\n",
    "\n",
    "test_forward()"
   ]
  },
  {
   "cell_type": "code",
   "execution_count": null,
   "id": "ad7a8e21",
   "metadata": {
    "colab": {
     "base_uri": "https://localhost:8080/"
    },
    "id": "ad7a8e21",
    "outputId": "8b8e3c73-cd93-46ba-d569-d133a99eb3f1"
   },
   "outputs": [],
   "source": [
    "num_params = count_parameters(CNN_LSTM(input_dim, output_dim))\n",
    "print('Total number of parameters: {}'.format(num_params))"
   ]
  },
  {
   "cell_type": "code",
   "execution_count": null,
   "id": "003acd33",
   "metadata": {
    "colab": {
     "base_uri": "https://localhost:8080/"
    },
    "id": "003acd33",
    "outputId": "84bbee15-48eb-4ad2-f5f4-4a8e672be30b"
   },
   "outputs": [],
   "source": [
    "cnn_lstm = CNN_LSTM(input_dim, output_dim).to(device)\n",
    "\n",
    "optimizer = torch.optim.Adam(cnn_lstm.parameters(), lr=0.001)\n",
    "\n",
    "loss = nn.MSELoss()\n",
    "\n",
    "print(cnn_lstm)"
   ]
  },
  {
   "cell_type": "code",
   "execution_count": null,
   "id": "uvysQA00ojgY",
   "metadata": {
    "colab": {
     "base_uri": "https://localhost:8080/"
    },
    "id": "uvysQA00ojgY",
    "outputId": "f4ca3f1d-7abe-457a-c330-34a5812f396d"
   },
   "outputs": [],
   "source": [
    "history = model_train(cnn_lstm, optimizer, loss, 1, train_loader, device)"
   ]
  },
  {
   "cell_type": "code",
   "execution_count": null,
   "id": "VEZjgyBIoq-V",
   "metadata": {
    "colab": {
     "base_uri": "https://localhost:8080/",
     "height": 627
    },
    "id": "VEZjgyBIoq-V",
    "outputId": "075e5c23-0667-49b3-b275-e18b554f20bf"
   },
   "outputs": [],
   "source": [
    "y_train_pred = model_predictions1(cnn_lstm, train_loader, device, scalers[CLOSE_INDEX])"
   ]
  },
  {
   "cell_type": "code",
   "execution_count": null,
   "id": "9_Fpr6hioyPw",
   "metadata": {
    "colab": {
     "base_uri": "https://localhost:8080/",
     "height": 627
    },
    "id": "9_Fpr6hioyPw",
    "outputId": "176ba535-563a-4326-c9ac-61a05c43e258"
   },
   "outputs": [],
   "source": [
    "y_test_pred = model_predictions1(cnn_lstm, test_loader, device, scalers[CLOSE_INDEX])"
   ]
  },
  {
   "cell_type": "code",
   "execution_count": null,
   "id": "d76-P9TyrZ5B",
   "metadata": {
    "colab": {
     "base_uri": "https://localhost:8080/",
     "height": 300
    },
    "id": "d76-P9TyrZ5B",
    "outputId": "4e2afc13-49cd-4bbe-8113-9670f756b247"
   },
   "outputs": [],
   "source": [
    "rmse(y_train.detach().cpu().numpy(), y_train_pred, 'Train')\n",
    "rmse(y_test.detach().cpu().numpy(), y_test_pred, 'Test')"
   ]
  },
  {
   "cell_type": "code",
   "execution_count": null,
   "id": "aqpgQYeDVYSx",
   "metadata": {
    "id": "aqpgQYeDVYSx"
   },
   "outputs": [],
   "source": []
  }
 ],
 "metadata": {
  "accelerator": "GPU",
  "colab": {
   "provenance": []
  },
  "gpuClass": "standard",
  "kernelspec": {
   "display_name": "Python 3 (ipykernel)",
   "language": "python",
   "name": "python3"
  },
  "language_info": {
   "codemirror_mode": {
    "name": "ipython",
    "version": 3
   },
   "file_extension": ".py",
   "mimetype": "text/x-python",
   "name": "python",
   "nbconvert_exporter": "python",
   "pygments_lexer": "ipython3",
   "version": "3.9.13"
  },
  "vscode": {
   "interpreter": {
    "hash": "b8bdd4e700647ba2b08c59e5df8b7da1dcf50a218bcd4c1bcd9b3dc92e8788e5"
   }
  }
 },
 "nbformat": 4,
 "nbformat_minor": 5
}
