{
 "cells": [
  {
   "cell_type": "code",
   "execution_count": 1,
   "id": "58ac92bb",
   "metadata": {},
   "outputs": [],
   "source": [
    "import torch\n",
    "import torch.nn as nn\n",
    "\n",
    "from datetime import datetime\n",
    "\n",
    "from utility import *"
   ]
  },
  {
   "cell_type": "code",
   "execution_count": 2,
   "id": "f7906fe8",
   "metadata": {},
   "outputs": [],
   "source": [
    "LOOKBACK = 61\n",
    "TRAIN_SPLIT_RATIO = 0.9\n",
    "columns = [OPEN_INDEX, HIGH_INDEX, LOW_INDEX, CLOSE_INDEX, VOLUME_INDEX]"
   ]
  },
  {
   "cell_type": "code",
   "execution_count": 3,
   "id": "3a8ec2c6",
   "metadata": {},
   "outputs": [
    {
     "name": "stdout",
     "output_type": "stream",
     "text": [
      "cpu\n"
     ]
    }
   ],
   "source": [
    "device = 'cuda' if torch.cuda.is_available() else 'cpu'\n",
    "print(device)"
   ]
  },
  {
   "cell_type": "code",
   "execution_count": 4,
   "id": "d764c38c",
   "metadata": {},
   "outputs": [
    {
     "name": "stdout",
     "output_type": "stream",
     "text": [
      "Found 1 symbols\n",
      "[1/1] - start download monthly BTCUSDT klines \n",
      "\n",
      "file already exists! /Users/mahadevmaitri/Downloads/cisc684/Cryptocurrency-Price-Forecasting/train/BTCUSDT/BTCUSDT-15m-2019-01.zip\n",
      "\n",
      "file already exists! /Users/mahadevmaitri/Downloads/cisc684/Cryptocurrency-Price-Forecasting/train/BTCUSDT/BTCUSDT-15m-2019-02.zip\n",
      "\n",
      "file already exists! /Users/mahadevmaitri/Downloads/cisc684/Cryptocurrency-Price-Forecasting/train/BTCUSDT/BTCUSDT-15m-2019-03.zip\n",
      "\n",
      "file already exists! /Users/mahadevmaitri/Downloads/cisc684/Cryptocurrency-Price-Forecasting/train/BTCUSDT/BTCUSDT-15m-2019-04.zip\n",
      "\n",
      "file already exists! /Users/mahadevmaitri/Downloads/cisc684/Cryptocurrency-Price-Forecasting/train/BTCUSDT/BTCUSDT-15m-2019-05.zip\n",
      "\n",
      "file already exists! /Users/mahadevmaitri/Downloads/cisc684/Cryptocurrency-Price-Forecasting/train/BTCUSDT/BTCUSDT-15m-2019-06.zip\n",
      "\n",
      "file already exists! /Users/mahadevmaitri/Downloads/cisc684/Cryptocurrency-Price-Forecasting/train/BTCUSDT/BTCUSDT-15m-2019-07.zip\n",
      "\n",
      "file already exists! /Users/mahadevmaitri/Downloads/cisc684/Cryptocurrency-Price-Forecasting/train/BTCUSDT/BTCUSDT-15m-2019-08.zip\n",
      "\n",
      "file already exists! /Users/mahadevmaitri/Downloads/cisc684/Cryptocurrency-Price-Forecasting/train/BTCUSDT/BTCUSDT-15m-2019-09.zip\n",
      "\n",
      "file already exists! /Users/mahadevmaitri/Downloads/cisc684/Cryptocurrency-Price-Forecasting/train/BTCUSDT/BTCUSDT-15m-2019-10.zip\n",
      "\n",
      "file already exists! /Users/mahadevmaitri/Downloads/cisc684/Cryptocurrency-Price-Forecasting/train/BTCUSDT/BTCUSDT-15m-2019-11.zip\n",
      "\n",
      "file already exists! /Users/mahadevmaitri/Downloads/cisc684/Cryptocurrency-Price-Forecasting/train/BTCUSDT/BTCUSDT-15m-2019-12.zip\n",
      "\n",
      "file already exists! /Users/mahadevmaitri/Downloads/cisc684/Cryptocurrency-Price-Forecasting/train/BTCUSDT/BTCUSDT-15m-2020-01.zip\n",
      "\n",
      "file already exists! /Users/mahadevmaitri/Downloads/cisc684/Cryptocurrency-Price-Forecasting/train/BTCUSDT/BTCUSDT-15m-2020-02.zip\n",
      "\n",
      "file already exists! /Users/mahadevmaitri/Downloads/cisc684/Cryptocurrency-Price-Forecasting/train/BTCUSDT/BTCUSDT-15m-2020-03.zip\n",
      "\n",
      "file already exists! /Users/mahadevmaitri/Downloads/cisc684/Cryptocurrency-Price-Forecasting/train/BTCUSDT/BTCUSDT-15m-2020-04.zip\n",
      "\n",
      "file already exists! /Users/mahadevmaitri/Downloads/cisc684/Cryptocurrency-Price-Forecasting/train/BTCUSDT/BTCUSDT-15m-2020-05.zip\n",
      "\n",
      "file already exists! /Users/mahadevmaitri/Downloads/cisc684/Cryptocurrency-Price-Forecasting/train/BTCUSDT/BTCUSDT-15m-2020-06.zip\n",
      "\n",
      "file already exists! /Users/mahadevmaitri/Downloads/cisc684/Cryptocurrency-Price-Forecasting/train/BTCUSDT/BTCUSDT-15m-2020-07.zip\n",
      "\n",
      "file already exists! /Users/mahadevmaitri/Downloads/cisc684/Cryptocurrency-Price-Forecasting/train/BTCUSDT/BTCUSDT-15m-2020-08.zip\n",
      "\n",
      "file already exists! /Users/mahadevmaitri/Downloads/cisc684/Cryptocurrency-Price-Forecasting/train/BTCUSDT/BTCUSDT-15m-2020-09.zip\n",
      "\n",
      "file already exists! /Users/mahadevmaitri/Downloads/cisc684/Cryptocurrency-Price-Forecasting/train/BTCUSDT/BTCUSDT-15m-2020-10.zip\n",
      "\n",
      "file already exists! /Users/mahadevmaitri/Downloads/cisc684/Cryptocurrency-Price-Forecasting/train/BTCUSDT/BTCUSDT-15m-2020-11.zip\n",
      "\n",
      "file already exists! /Users/mahadevmaitri/Downloads/cisc684/Cryptocurrency-Price-Forecasting/train/BTCUSDT/BTCUSDT-15m-2020-12.zip\n",
      "\n",
      "file already exists! /Users/mahadevmaitri/Downloads/cisc684/Cryptocurrency-Price-Forecasting/train/BTCUSDT/BTCUSDT-15m-2021-01.zip\n",
      "\n",
      "file already exists! /Users/mahadevmaitri/Downloads/cisc684/Cryptocurrency-Price-Forecasting/train/BTCUSDT/BTCUSDT-15m-2021-02.zip\n",
      "\n",
      "file already exists! /Users/mahadevmaitri/Downloads/cisc684/Cryptocurrency-Price-Forecasting/train/BTCUSDT/BTCUSDT-15m-2021-03.zip\n",
      "\n",
      "file already exists! /Users/mahadevmaitri/Downloads/cisc684/Cryptocurrency-Price-Forecasting/train/BTCUSDT/BTCUSDT-15m-2021-04.zip\n",
      "\n",
      "file already exists! /Users/mahadevmaitri/Downloads/cisc684/Cryptocurrency-Price-Forecasting/train/BTCUSDT/BTCUSDT-15m-2021-05.zip\n",
      "\n",
      "file already exists! /Users/mahadevmaitri/Downloads/cisc684/Cryptocurrency-Price-Forecasting/train/BTCUSDT/BTCUSDT-15m-2021-06.zip\n",
      "\n",
      "file already exists! /Users/mahadevmaitri/Downloads/cisc684/Cryptocurrency-Price-Forecasting/train/BTCUSDT/BTCUSDT-15m-2021-07.zip\n",
      "\n",
      "file already exists! /Users/mahadevmaitri/Downloads/cisc684/Cryptocurrency-Price-Forecasting/train/BTCUSDT/BTCUSDT-15m-2021-08.zip\n",
      "\n",
      "file already exists! /Users/mahadevmaitri/Downloads/cisc684/Cryptocurrency-Price-Forecasting/train/BTCUSDT/BTCUSDT-15m-2021-09.zip\n",
      "\n",
      "file already exists! /Users/mahadevmaitri/Downloads/cisc684/Cryptocurrency-Price-Forecasting/train/BTCUSDT/BTCUSDT-15m-2021-10.zip\n",
      "\n",
      "file already exists! /Users/mahadevmaitri/Downloads/cisc684/Cryptocurrency-Price-Forecasting/train/BTCUSDT/BTCUSDT-15m-2021-11.zip\n",
      "\n",
      "file already exists! /Users/mahadevmaitri/Downloads/cisc684/Cryptocurrency-Price-Forecasting/train/BTCUSDT/BTCUSDT-15m-2021-12.zip\n",
      "\n",
      "file already exists! /Users/mahadevmaitri/Downloads/cisc684/Cryptocurrency-Price-Forecasting/train/BTCUSDT/BTCUSDT-15m-2022-01.zip\n",
      "\n",
      "file already exists! /Users/mahadevmaitri/Downloads/cisc684/Cryptocurrency-Price-Forecasting/train/BTCUSDT/BTCUSDT-15m-2022-02.zip\n",
      "\n",
      "file already exists! /Users/mahadevmaitri/Downloads/cisc684/Cryptocurrency-Price-Forecasting/train/BTCUSDT/BTCUSDT-15m-2022-03.zip\n",
      "\n",
      "file already exists! /Users/mahadevmaitri/Downloads/cisc684/Cryptocurrency-Price-Forecasting/train/BTCUSDT/BTCUSDT-15m-2022-04.zip\n",
      "\n",
      "file already exists! /Users/mahadevmaitri/Downloads/cisc684/Cryptocurrency-Price-Forecasting/train/BTCUSDT/BTCUSDT-15m-2022-05.zip\n",
      "\n",
      "file already exists! /Users/mahadevmaitri/Downloads/cisc684/Cryptocurrency-Price-Forecasting/train/BTCUSDT/BTCUSDT-15m-2022-06.zip\n",
      "\n",
      "file already exists! /Users/mahadevmaitri/Downloads/cisc684/Cryptocurrency-Price-Forecasting/train/BTCUSDT/BTCUSDT-15m-2022-07.zip\n",
      "\n",
      "file already exists! /Users/mahadevmaitri/Downloads/cisc684/Cryptocurrency-Price-Forecasting/train/BTCUSDT/BTCUSDT-15m-2022-08.zip\n",
      "\n",
      "file already exists! /Users/mahadevmaitri/Downloads/cisc684/Cryptocurrency-Price-Forecasting/train/BTCUSDT/BTCUSDT-15m-2022-09.zip\n",
      "\n",
      "file already exists! /Users/mahadevmaitri/Downloads/cisc684/Cryptocurrency-Price-Forecasting/train/BTCUSDT/BTCUSDT-15m-2022-10.zip\n",
      "\n",
      "File not found: https://data.binance.vision/data/spot/monthly/klines/BTCUSDT/15m/BTCUSDT-15m-2022-11.zip\n"
     ]
    }
   ],
   "source": [
    "todays_date = datetime.now().strftime('%Y-%m-%d')\n",
    "download_monthly_klines('spot', ['BTCUSDT'], ['15m'], '2019-01-01', todays_date, 'train')"
   ]
  },
  {
   "cell_type": "code",
   "execution_count": 5,
   "id": "6e11d00c",
   "metadata": {},
   "outputs": [],
   "source": [
    "dataframe = get_data('train', 'BTCUSDT')"
   ]
  },
  {
   "cell_type": "code",
   "execution_count": 6,
   "id": "592b704f",
   "metadata": {},
   "outputs": [],
   "source": [
    "x_train, y_train, x_test, y_test = split_data(dataframe, LOOKBACK, TRAIN_SPLIT_RATIO, columns)"
   ]
  },
  {
   "cell_type": "code",
   "execution_count": 7,
   "id": "2d43fcfd",
   "metadata": {},
   "outputs": [
    {
     "name": "stdout",
     "output_type": "stream",
     "text": [
      "x_train.shape = (120668, 60, 5)\n",
      "y_train.shape = (120668,)\n",
      "x_test.shape = (13407, 60, 5)\n",
      "y_test.shape = (13407,)\n"
     ]
    }
   ],
   "source": [
    "print('x_train.shape = {}'.format(x_train.shape))\n",
    "print('y_train.shape = {}'.format(y_train.shape))\n",
    "print('x_test.shape = {}'.format(x_test.shape))\n",
    "print('y_test.shape = {}'.format(y_test.shape))"
   ]
  },
  {
   "cell_type": "code",
   "execution_count": 8,
   "id": "43239a43",
   "metadata": {},
   "outputs": [],
   "source": [
    "x_train = torch.tensor(x_train, dtype=torch.float)\n",
    "x_test = torch.tensor(x_test, dtype=torch.float)\n",
    "y_train = torch.tensor(y_train, dtype=torch.float)\n",
    "y_test = torch.tensor(y_test, dtype=torch.float)"
   ]
  },
  {
   "cell_type": "code",
   "execution_count": 9,
   "id": "4c641daf",
   "metadata": {},
   "outputs": [],
   "source": [
    "input_dim = x_train.shape[1]\n",
    "output_dim = 1"
   ]
  },
  {
   "cell_type": "code",
   "execution_count": null,
   "id": "245196bc",
   "metadata": {},
   "outputs": [],
   "source": []
  }
 ],
 "metadata": {
  "kernelspec": {
   "display_name": "Python 3 (ipykernel)",
   "language": "python",
   "name": "python3"
  },
  "language_info": {
   "codemirror_mode": {
    "name": "ipython",
    "version": 3
   },
   "file_extension": ".py",
   "mimetype": "text/x-python",
   "name": "python",
   "nbconvert_exporter": "python",
   "pygments_lexer": "ipython3",
   "version": "3.9.13"
  }
 },
 "nbformat": 4,
 "nbformat_minor": 5
}
