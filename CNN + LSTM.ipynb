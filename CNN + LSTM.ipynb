{
 "cells": [
  {
   "cell_type": "code",
   "execution_count": 1,
   "id": "58ac92bb",
   "metadata": {},
   "outputs": [],
   "source": [
    "import torch\n",
    "import torch.nn as nn\n",
    "\n",
    "from datetime import datetime\n",
    "\n",
    "from utility import *"
   ]
  },
  {
   "cell_type": "code",
   "execution_count": 2,
   "id": "f7906fe8",
   "metadata": {},
   "outputs": [],
   "source": [
    "LOOKBACK = 61\n",
    "TRAIN_SPLIT_RATIO = 0.9\n",
    "columns = [OPEN_INDEX, HIGH_INDEX, LOW_INDEX, CLOSE_INDEX, VOLUME_INDEX]"
   ]
  },
  {
   "cell_type": "code",
   "execution_count": 3,
   "id": "3a8ec2c6",
   "metadata": {},
   "outputs": [
    {
     "name": "stdout",
     "output_type": "stream",
     "text": [
      "cpu\n"
     ]
    }
   ],
   "source": [
    "device = 'cuda' if torch.cuda.is_available() else 'cpu'\n",
    "print(device)"
   ]
  },
  {
   "cell_type": "code",
   "execution_count": 4,
   "id": "d764c38c",
   "metadata": {},
   "outputs": [
    {
     "name": "stdout",
     "output_type": "stream",
     "text": [
      "Found 1 symbols\n",
      "[1/1] - start download monthly BTCUSDT klines \n",
      "\n",
      "file already exists! /Users/mahadevmaitri/Downloads/cisc684/Cryptocurrency-Price-Forecasting/train/BTCUSDT/BTCUSDT-15m-2019-01.zip\n",
      "\n",
      "file already exists! /Users/mahadevmaitri/Downloads/cisc684/Cryptocurrency-Price-Forecasting/train/BTCUSDT/BTCUSDT-15m-2019-02.zip\n",
      "\n",
      "file already exists! /Users/mahadevmaitri/Downloads/cisc684/Cryptocurrency-Price-Forecasting/train/BTCUSDT/BTCUSDT-15m-2019-03.zip\n",
      "\n",
      "file already exists! /Users/mahadevmaitri/Downloads/cisc684/Cryptocurrency-Price-Forecasting/train/BTCUSDT/BTCUSDT-15m-2019-04.zip\n",
      "\n",
      "file already exists! /Users/mahadevmaitri/Downloads/cisc684/Cryptocurrency-Price-Forecasting/train/BTCUSDT/BTCUSDT-15m-2019-05.zip\n",
      "\n",
      "file already exists! /Users/mahadevmaitri/Downloads/cisc684/Cryptocurrency-Price-Forecasting/train/BTCUSDT/BTCUSDT-15m-2019-06.zip\n",
      "\n",
      "file already exists! /Users/mahadevmaitri/Downloads/cisc684/Cryptocurrency-Price-Forecasting/train/BTCUSDT/BTCUSDT-15m-2019-07.zip\n",
      "\n",
      "file already exists! /Users/mahadevmaitri/Downloads/cisc684/Cryptocurrency-Price-Forecasting/train/BTCUSDT/BTCUSDT-15m-2019-08.zip\n",
      "\n",
      "file already exists! /Users/mahadevmaitri/Downloads/cisc684/Cryptocurrency-Price-Forecasting/train/BTCUSDT/BTCUSDT-15m-2019-09.zip\n",
      "\n",
      "file already exists! /Users/mahadevmaitri/Downloads/cisc684/Cryptocurrency-Price-Forecasting/train/BTCUSDT/BTCUSDT-15m-2019-10.zip\n",
      "\n",
      "file already exists! /Users/mahadevmaitri/Downloads/cisc684/Cryptocurrency-Price-Forecasting/train/BTCUSDT/BTCUSDT-15m-2019-11.zip\n",
      "\n",
      "file already exists! /Users/mahadevmaitri/Downloads/cisc684/Cryptocurrency-Price-Forecasting/train/BTCUSDT/BTCUSDT-15m-2019-12.zip\n",
      "\n",
      "file already exists! /Users/mahadevmaitri/Downloads/cisc684/Cryptocurrency-Price-Forecasting/train/BTCUSDT/BTCUSDT-15m-2020-01.zip\n",
      "\n",
      "file already exists! /Users/mahadevmaitri/Downloads/cisc684/Cryptocurrency-Price-Forecasting/train/BTCUSDT/BTCUSDT-15m-2020-02.zip\n",
      "\n",
      "file already exists! /Users/mahadevmaitri/Downloads/cisc684/Cryptocurrency-Price-Forecasting/train/BTCUSDT/BTCUSDT-15m-2020-03.zip\n",
      "\n",
      "file already exists! /Users/mahadevmaitri/Downloads/cisc684/Cryptocurrency-Price-Forecasting/train/BTCUSDT/BTCUSDT-15m-2020-04.zip\n",
      "\n",
      "file already exists! /Users/mahadevmaitri/Downloads/cisc684/Cryptocurrency-Price-Forecasting/train/BTCUSDT/BTCUSDT-15m-2020-05.zip\n",
      "\n",
      "file already exists! /Users/mahadevmaitri/Downloads/cisc684/Cryptocurrency-Price-Forecasting/train/BTCUSDT/BTCUSDT-15m-2020-06.zip\n",
      "\n",
      "file already exists! /Users/mahadevmaitri/Downloads/cisc684/Cryptocurrency-Price-Forecasting/train/BTCUSDT/BTCUSDT-15m-2020-07.zip\n",
      "\n",
      "file already exists! /Users/mahadevmaitri/Downloads/cisc684/Cryptocurrency-Price-Forecasting/train/BTCUSDT/BTCUSDT-15m-2020-08.zip\n",
      "\n",
      "file already exists! /Users/mahadevmaitri/Downloads/cisc684/Cryptocurrency-Price-Forecasting/train/BTCUSDT/BTCUSDT-15m-2020-09.zip\n",
      "\n",
      "file already exists! /Users/mahadevmaitri/Downloads/cisc684/Cryptocurrency-Price-Forecasting/train/BTCUSDT/BTCUSDT-15m-2020-10.zip\n",
      "\n",
      "file already exists! /Users/mahadevmaitri/Downloads/cisc684/Cryptocurrency-Price-Forecasting/train/BTCUSDT/BTCUSDT-15m-2020-11.zip\n",
      "\n",
      "file already exists! /Users/mahadevmaitri/Downloads/cisc684/Cryptocurrency-Price-Forecasting/train/BTCUSDT/BTCUSDT-15m-2020-12.zip\n",
      "\n",
      "file already exists! /Users/mahadevmaitri/Downloads/cisc684/Cryptocurrency-Price-Forecasting/train/BTCUSDT/BTCUSDT-15m-2021-01.zip\n",
      "\n",
      "file already exists! /Users/mahadevmaitri/Downloads/cisc684/Cryptocurrency-Price-Forecasting/train/BTCUSDT/BTCUSDT-15m-2021-02.zip\n",
      "\n",
      "file already exists! /Users/mahadevmaitri/Downloads/cisc684/Cryptocurrency-Price-Forecasting/train/BTCUSDT/BTCUSDT-15m-2021-03.zip\n",
      "\n",
      "file already exists! /Users/mahadevmaitri/Downloads/cisc684/Cryptocurrency-Price-Forecasting/train/BTCUSDT/BTCUSDT-15m-2021-04.zip\n",
      "\n",
      "file already exists! /Users/mahadevmaitri/Downloads/cisc684/Cryptocurrency-Price-Forecasting/train/BTCUSDT/BTCUSDT-15m-2021-05.zip\n",
      "\n",
      "file already exists! /Users/mahadevmaitri/Downloads/cisc684/Cryptocurrency-Price-Forecasting/train/BTCUSDT/BTCUSDT-15m-2021-06.zip\n",
      "\n",
      "file already exists! /Users/mahadevmaitri/Downloads/cisc684/Cryptocurrency-Price-Forecasting/train/BTCUSDT/BTCUSDT-15m-2021-07.zip\n",
      "\n",
      "file already exists! /Users/mahadevmaitri/Downloads/cisc684/Cryptocurrency-Price-Forecasting/train/BTCUSDT/BTCUSDT-15m-2021-08.zip\n",
      "\n",
      "file already exists! /Users/mahadevmaitri/Downloads/cisc684/Cryptocurrency-Price-Forecasting/train/BTCUSDT/BTCUSDT-15m-2021-09.zip\n",
      "\n",
      "file already exists! /Users/mahadevmaitri/Downloads/cisc684/Cryptocurrency-Price-Forecasting/train/BTCUSDT/BTCUSDT-15m-2021-10.zip\n",
      "\n",
      "file already exists! /Users/mahadevmaitri/Downloads/cisc684/Cryptocurrency-Price-Forecasting/train/BTCUSDT/BTCUSDT-15m-2021-11.zip\n",
      "\n",
      "file already exists! /Users/mahadevmaitri/Downloads/cisc684/Cryptocurrency-Price-Forecasting/train/BTCUSDT/BTCUSDT-15m-2021-12.zip\n",
      "\n",
      "file already exists! /Users/mahadevmaitri/Downloads/cisc684/Cryptocurrency-Price-Forecasting/train/BTCUSDT/BTCUSDT-15m-2022-01.zip\n",
      "\n",
      "file already exists! /Users/mahadevmaitri/Downloads/cisc684/Cryptocurrency-Price-Forecasting/train/BTCUSDT/BTCUSDT-15m-2022-02.zip\n",
      "\n",
      "file already exists! /Users/mahadevmaitri/Downloads/cisc684/Cryptocurrency-Price-Forecasting/train/BTCUSDT/BTCUSDT-15m-2022-03.zip\n",
      "\n",
      "file already exists! /Users/mahadevmaitri/Downloads/cisc684/Cryptocurrency-Price-Forecasting/train/BTCUSDT/BTCUSDT-15m-2022-04.zip\n",
      "\n",
      "file already exists! /Users/mahadevmaitri/Downloads/cisc684/Cryptocurrency-Price-Forecasting/train/BTCUSDT/BTCUSDT-15m-2022-05.zip\n",
      "\n",
      "file already exists! /Users/mahadevmaitri/Downloads/cisc684/Cryptocurrency-Price-Forecasting/train/BTCUSDT/BTCUSDT-15m-2022-06.zip\n",
      "\n",
      "file already exists! /Users/mahadevmaitri/Downloads/cisc684/Cryptocurrency-Price-Forecasting/train/BTCUSDT/BTCUSDT-15m-2022-07.zip\n",
      "\n",
      "file already exists! /Users/mahadevmaitri/Downloads/cisc684/Cryptocurrency-Price-Forecasting/train/BTCUSDT/BTCUSDT-15m-2022-08.zip\n",
      "\n",
      "file already exists! /Users/mahadevmaitri/Downloads/cisc684/Cryptocurrency-Price-Forecasting/train/BTCUSDT/BTCUSDT-15m-2022-09.zip\n",
      "\n",
      "file already exists! /Users/mahadevmaitri/Downloads/cisc684/Cryptocurrency-Price-Forecasting/train/BTCUSDT/BTCUSDT-15m-2022-10.zip\n",
      "\n",
      "File not found: https://data.binance.vision/data/spot/monthly/klines/BTCUSDT/15m/BTCUSDT-15m-2022-11.zip\n"
     ]
    }
   ],
   "source": [
    "todays_date = datetime.now().strftime('%Y-%m-%d')\n",
    "download_monthly_klines('spot', ['BTCUSDT'], ['15m'], '2019-01-01', todays_date, 'train')"
   ]
  },
  {
   "cell_type": "code",
   "execution_count": 5,
   "id": "6e11d00c",
   "metadata": {},
   "outputs": [],
   "source": [
    "dataframe = get_data('train', 'BTCUSDT')"
   ]
  },
  {
   "cell_type": "code",
   "execution_count": 6,
   "id": "592b704f",
   "metadata": {},
   "outputs": [],
   "source": [
    "x_train, y_train, x_test, y_test = split_data(dataframe, LOOKBACK, TRAIN_SPLIT_RATIO, columns)"
   ]
  },
  {
   "cell_type": "code",
   "execution_count": 7,
   "id": "2d43fcfd",
   "metadata": {},
   "outputs": [
    {
     "name": "stdout",
     "output_type": "stream",
     "text": [
      "x_train.shape = (120668, 60, 5)\n",
      "y_train.shape = (120668,)\n",
      "x_test.shape = (13407, 60, 5)\n",
      "y_test.shape = (13407,)\n"
     ]
    }
   ],
   "source": [
    "print('x_train.shape = {}'.format(x_train.shape))\n",
    "print('y_train.shape = {}'.format(y_train.shape))\n",
    "print('x_test.shape = {}'.format(x_test.shape))\n",
    "print('y_test.shape = {}'.format(y_test.shape))"
   ]
  },
  {
   "cell_type": "code",
   "execution_count": 8,
   "id": "43239a43",
   "metadata": {},
   "outputs": [],
   "source": [
    "x_train = torch.tensor(x_train, dtype=torch.float)\n",
    "x_test = torch.tensor(x_test, dtype=torch.float)\n",
    "y_train = torch.tensor(y_train, dtype=torch.float)\n",
    "y_test = torch.tensor(y_test, dtype=torch.float)"
   ]
  },
  {
   "cell_type": "code",
   "execution_count": 9,
   "id": "4c641daf",
   "metadata": {},
   "outputs": [],
   "source": [
    "input_dim = x_train.shape[1]\n",
    "output_dim = 1"
   ]
  },
  {
   "cell_type": "code",
   "execution_count": 62,
   "id": "245196bc",
   "metadata": {},
   "outputs": [],
   "source": [
    "class CNN_LSTM(nn.Module):\n",
    "    def __init__(self, input_shape, output_shape):\n",
    "        super(CNN_LSTM, self).__init__()\n",
    "        \n",
    "        self.conv1 = nn.Conv1d(60, 56, 5)\n",
    "        self.lstm1 = nn.LSTM(1, 56)\n",
    "        self.fc1 = nn.Linear(56, 1)\n",
    "        \n",
    "    def observe_outputs(self, x):\n",
    "        x = self.conv1(x)\n",
    "        print('After conv1: {}'.format(x.size()))\n",
    "        \n",
    "        x, _ = self.lstm1(x)\n",
    "        print('After lstm1: {}'.format(x.size()))\n",
    "        \n",
    "        x = self.fc1(x)\n",
    "        print('After fc1: {}'.format(x.size()))\n",
    "        \n",
    "    def forward(self, x):\n",
    "        x = self.conv1(x)\n",
    "        x, _ = self.lstm1(x)\n",
    "        x = self.fc1(x)        "
   ]
  },
  {
   "cell_type": "code",
   "execution_count": 63,
   "id": "79eb358f",
   "metadata": {},
   "outputs": [
    {
     "name": "stdout",
     "output_type": "stream",
     "text": [
      "After conv1: torch.Size([16, 56, 1])\n",
      "After lstm1: torch.Size([16, 56, 56])\n",
      "After fc1: torch.Size([16, 56, 1])\n"
     ]
    }
   ],
   "source": [
    "cnn_lstm = CNN_LSTM(input_dim, output_dim).to(device)\n",
    "\n",
    "x = torch.randn(16, 60, 5).to(device)\n",
    "with torch.no_grad():\n",
    "    cnn_lstm.observe_outputs(x)"
   ]
  },
  {
   "cell_type": "code",
   "execution_count": 64,
   "id": "ad7a8e21",
   "metadata": {},
   "outputs": [
    {
     "name": "stdout",
     "output_type": "stream",
     "text": [
      "Total number of parameters: 30129\n"
     ]
    }
   ],
   "source": [
    "def count_parameters(net, all=True):\n",
    "    return sum(p.numel() for p in net.parameters() if p.requires_grad or all)\n",
    "\n",
    "num_params = count_parameters(CNN_LSTM(input_dim, output_dim))\n",
    "print('Total number of parameters: {}'.format(num_params))"
   ]
  },
  {
   "cell_type": "code",
   "execution_count": 65,
   "id": "f95d6f1e",
   "metadata": {},
   "outputs": [],
   "source": [
    "def model_train(model, optim, criterion, num_epochs, inputs, actuals):\n",
    "\n",
    "    hist = np.zeros(num_epochs)\n",
    "    start_time = datetime.now()\n",
    "\n",
    "    for t in range(num_epochs):\n",
    "        inputs = inputs.to(device)\n",
    "        actuals = actuals.to(device)\n",
    "        predictions = model(inputs)\n",
    "\n",
    "        loss = criterion(predictions, actuals)\n",
    "        if ((t+1) % 10) == 0:\n",
    "            print(\"Epoch \", t, \"MSE: \", loss.item())\n",
    "        hist[t] = loss.item()\n",
    "\n",
    "        optim.zero_grad()\n",
    "        loss.backward()\n",
    "        optim.step()\n",
    "        \n",
    "    training_time = datetime.now() - start_time\n",
    "    print(\"Training time: {}\".format(training_time))\n",
    "\n",
    "    return predictions, hist"
   ]
  },
  {
   "cell_type": "code",
   "execution_count": 66,
   "id": "823635d5",
   "metadata": {},
   "outputs": [],
   "source": [
    "def train_test_rmse(actuals_train, predictions_train, actuals_test, predictions_test):\n",
    "    actuals_train = actuals_train.detach().cpu().numpy()\n",
    "    predictions_train = predictions_train.detach().cpu().numpy()\n",
    "    trainScore = np.sqrt(mean_squared_error(actuals_train[:,0], predictions_train[:,0]))\n",
    "    print('Train Score: %.2f RMSE' % (trainScore))\n",
    "\n",
    "    actuals_test = actuals_test.detach().cpu().numpy()\n",
    "    predictions_test = predictions_test.detach().cpu().numpy()\n",
    "    testScore = np.sqrt(mean_squared_error(actuals_test[:,0], predictions_test[:,0]))\n",
    "    print('Test Score: %.2f RMSE' % (testScore))"
   ]
  },
  {
   "cell_type": "code",
   "execution_count": null,
   "id": "003acd33",
   "metadata": {},
   "outputs": [],
   "source": [
    "optimizer = torch.optim.Adam(cnn_lstm.parameters(), lr=0.001)\n",
    "\n",
    "loss = nn.MSELoss()\n",
    "\n",
    "y_train_pred, history = model_train(cnn_lstm, optimizer, loss, 1, x_train, y_train)"
   ]
  },
  {
   "cell_type": "code",
   "execution_count": null,
   "id": "3d55e26b",
   "metadata": {},
   "outputs": [],
   "source": []
  }
 ],
 "metadata": {
  "kernelspec": {
   "display_name": "Python 3 (ipykernel)",
   "language": "python",
   "name": "python3"
  },
  "language_info": {
   "codemirror_mode": {
    "name": "ipython",
    "version": 3
   },
   "file_extension": ".py",
   "mimetype": "text/x-python",
   "name": "python",
   "nbconvert_exporter": "python",
   "pygments_lexer": "ipython3",
   "version": "3.9.13"
  }
 },
 "nbformat": 4,
 "nbformat_minor": 5
}
