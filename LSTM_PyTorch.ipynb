{
 "cells": [
  {
   "cell_type": "code",
   "execution_count": 1,
   "id": "b7b1b24c",
   "metadata": {
    "execution": {
     "iopub.execute_input": "2022-11-21T22:10:03.792132Z",
     "iopub.status.busy": "2022-11-21T22:10:03.791424Z",
     "iopub.status.idle": "2022-11-21T22:10:10.347266Z",
     "shell.execute_reply": "2022-11-21T22:10:10.346313Z"
    },
    "id": "58ac92bb",
    "papermill": {
     "duration": 6.567401,
     "end_time": "2022-11-21T22:10:10.349850",
     "exception": false,
     "start_time": "2022-11-21T22:10:03.782449",
     "status": "completed"
    },
    "tags": []
   },
   "outputs": [],
   "source": [
    "import torch\n",
    "import torch.nn as nn\n",
    "from torch.utils.data import DataLoader\n",
    "\n",
    "import seaborn as sns\n",
    "import matplotlib.pyplot as plt\n",
    "\n",
    "from sklearn.preprocessing import MinMaxScaler\n",
    "\n",
    "from datetime import datetime\n",
    "\n",
    "from utility import *\n",
    "from model_utility import *"
   ]
  },
  {
   "cell_type": "code",
   "execution_count": 3,
   "id": "02e90f40",
   "metadata": {
    "execution": {
     "iopub.execute_input": "2022-11-21T22:10:10.453453Z",
     "iopub.status.busy": "2022-11-21T22:10:10.452556Z",
     "iopub.status.idle": "2022-11-21T22:10:10.457076Z",
     "shell.execute_reply": "2022-11-21T22:10:10.456210Z"
    },
    "id": "f7906fe8",
    "papermill": {
     "duration": 0.01444,
     "end_time": "2022-11-21T22:10:10.459034",
     "exception": false,
     "start_time": "2022-11-21T22:10:10.444594",
     "status": "completed"
    },
    "tags": []
   },
   "outputs": [],
   "source": [
    "LOOKBACK = 61\n",
    "TRAIN_SPLIT_RATIO = 0.9\n",
    "columns = [CLOSE_INDEX]"
   ]
  },
  {
   "cell_type": "code",
   "execution_count": null,
   "id": "926ab38f",
   "metadata": {},
   "outputs": [],
   "source": [
    "device = 'cuda' if torch.cuda.is_available() else 'cpu'\n",
    "print(device)"
   ]
  },
  {
   "cell_type": "code",
   "execution_count": 4,
   "id": "790dd7bf",
   "metadata": {
    "execution": {
     "iopub.execute_input": "2022-11-21T22:10:10.473582Z",
     "iopub.status.busy": "2022-11-21T22:10:10.472740Z",
     "iopub.status.idle": "2022-11-21T22:11:30.557566Z",
     "shell.execute_reply": "2022-11-21T22:11:30.555915Z"
    },
    "id": "d764c38c",
    "outputId": "28955615-8a49-4600-d97b-6759c27cdbc5",
    "papermill": {
     "duration": 80.094276,
     "end_time": "2022-11-21T22:11:30.559790",
     "exception": false,
     "start_time": "2022-11-21T22:10:10.465514",
     "status": "completed"
    },
    "tags": []
   },
   "outputs": [
    {
     "name": "stdout",
     "output_type": "stream",
     "text": [
      "Found 1 symbols\n",
      "[1/1] - start download monthly BTCUSDT klines \n",
      "\n",
      "File Download: /kaggle/working/train/BTCUSDT/BTCUSDT-15m-2019-01.zip\n",
      "[##################################################]\n",
      "File Download: /kaggle/working/train/BTCUSDT/BTCUSDT-15m-2019-02.zip\n",
      "[##################################################]\n",
      "File Download: /kaggle/working/train/BTCUSDT/BTCUSDT-15m-2019-03.zip\n",
      "[##################################################]\n",
      "File Download: /kaggle/working/train/BTCUSDT/BTCUSDT-15m-2019-04.zip\n",
      "[##################################################]\n",
      "File Download: /kaggle/working/train/BTCUSDT/BTCUSDT-15m-2019-05.zip\n",
      "[##################################################]\n",
      "File Download: /kaggle/working/train/BTCUSDT/BTCUSDT-15m-2019-06.zip\n",
      "[##################################################]\n",
      "File Download: /kaggle/working/train/BTCUSDT/BTCUSDT-15m-2019-07.zip\n",
      "[##################################################]\n",
      "File Download: /kaggle/working/train/BTCUSDT/BTCUSDT-15m-2019-08.zip\n",
      "[##################################################]\n",
      "File Download: /kaggle/working/train/BTCUSDT/BTCUSDT-15m-2019-09.zip\n",
      "[##################################################]\n",
      "File Download: /kaggle/working/train/BTCUSDT/BTCUSDT-15m-2019-10.zip\n",
      "[##################################################]\n",
      "File Download: /kaggle/working/train/BTCUSDT/BTCUSDT-15m-2019-11.zip\n",
      "[##################################################]\n",
      "File Download: /kaggle/working/train/BTCUSDT/BTCUSDT-15m-2019-12.zip\n",
      "[##################################################]\n",
      "File Download: /kaggle/working/train/BTCUSDT/BTCUSDT-15m-2020-01.zip\n",
      "[##################################################]\n",
      "File Download: /kaggle/working/train/BTCUSDT/BTCUSDT-15m-2020-02.zip\n",
      "[##################################################]\n",
      "File Download: /kaggle/working/train/BTCUSDT/BTCUSDT-15m-2020-03.zip\n",
      "[##################################################]\n",
      "File Download: /kaggle/working/train/BTCUSDT/BTCUSDT-15m-2020-04.zip\n",
      "[##################################################]\n",
      "File Download: /kaggle/working/train/BTCUSDT/BTCUSDT-15m-2020-05.zip\n",
      "[##################################################]\n",
      "File Download: /kaggle/working/train/BTCUSDT/BTCUSDT-15m-2020-06.zip\n",
      "[##################################################]\n",
      "File Download: /kaggle/working/train/BTCUSDT/BTCUSDT-15m-2020-07.zip\n",
      "[##################################################]\n",
      "File Download: /kaggle/working/train/BTCUSDT/BTCUSDT-15m-2020-08.zip\n",
      "[##################################################]\n",
      "File Download: /kaggle/working/train/BTCUSDT/BTCUSDT-15m-2020-09.zip\n",
      "[##################################################]\n",
      "File Download: /kaggle/working/train/BTCUSDT/BTCUSDT-15m-2020-10.zip\n",
      "[##################################################]\n",
      "File Download: /kaggle/working/train/BTCUSDT/BTCUSDT-15m-2020-11.zip\n",
      "[##################################################]\n",
      "File Download: /kaggle/working/train/BTCUSDT/BTCUSDT-15m-2020-12.zip\n",
      "[##################################################]\n",
      "File Download: /kaggle/working/train/BTCUSDT/BTCUSDT-15m-2021-01.zip\n",
      "[##################################################]\n",
      "File Download: /kaggle/working/train/BTCUSDT/BTCUSDT-15m-2021-02.zip\n",
      "[##################################################]\n",
      "File Download: /kaggle/working/train/BTCUSDT/BTCUSDT-15m-2021-03.zip\n",
      "[##################################################]\n",
      "File Download: /kaggle/working/train/BTCUSDT/BTCUSDT-15m-2021-04.zip\n",
      "[##################################################]\n",
      "File Download: /kaggle/working/train/BTCUSDT/BTCUSDT-15m-2021-05.zip\n",
      "[##################################################]\n",
      "File Download: /kaggle/working/train/BTCUSDT/BTCUSDT-15m-2021-06.zip\n",
      "[##################################################]\n",
      "File Download: /kaggle/working/train/BTCUSDT/BTCUSDT-15m-2021-07.zip\n",
      "[##################################################]\n",
      "File Download: /kaggle/working/train/BTCUSDT/BTCUSDT-15m-2021-08.zip\n",
      "[##################################################]\n",
      "File Download: /kaggle/working/train/BTCUSDT/BTCUSDT-15m-2021-09.zip\n",
      "[##################################################]\n",
      "File Download: /kaggle/working/train/BTCUSDT/BTCUSDT-15m-2021-10.zip\n",
      "[##################################################]\n",
      "File Download: /kaggle/working/train/BTCUSDT/BTCUSDT-15m-2021-11.zip\n",
      "[##################################################]\n",
      "File Download: /kaggle/working/train/BTCUSDT/BTCUSDT-15m-2021-12.zip\n",
      "[##################################################]\n",
      "File Download: /kaggle/working/train/BTCUSDT/BTCUSDT-15m-2022-01.zip\n",
      "[##################################################]\n",
      "File Download: /kaggle/working/train/BTCUSDT/BTCUSDT-15m-2022-02.zip\n",
      "[##################################################]\n",
      "File Download: /kaggle/working/train/BTCUSDT/BTCUSDT-15m-2022-03.zip\n",
      "[##################################################]\n",
      "File Download: /kaggle/working/train/BTCUSDT/BTCUSDT-15m-2022-04.zip\n",
      "[##################################################]\n",
      "File Download: /kaggle/working/train/BTCUSDT/BTCUSDT-15m-2022-05.zip\n",
      "[##################################################]\n",
      "File Download: /kaggle/working/train/BTCUSDT/BTCUSDT-15m-2022-06.zip\n",
      "[##################################################]\n",
      "File Download: /kaggle/working/train/BTCUSDT/BTCUSDT-15m-2022-07.zip\n",
      "[##################################################]\n",
      "File Download: /kaggle/working/train/BTCUSDT/BTCUSDT-15m-2022-08.zip\n",
      "[##################################################]\n",
      "File Download: /kaggle/working/train/BTCUSDT/BTCUSDT-15m-2022-09.zip\n",
      "[##################################################]\n",
      "File Download: /kaggle/working/train/BTCUSDT/BTCUSDT-15m-2022-10.zip\n",
      "[##################################################]\n",
      "File not found: https://data.binance.vision/data/spot/monthly/klines/BTCUSDT/15m/BTCUSDT-15m-2022-11.zip\n"
     ]
    }
   ],
   "source": [
    "todays_date = datetime.now().strftime('%Y-%m-%d')\n",
    "download_monthly_klines('spot', [BTC], ['15m'], '2019-01-01', todays_date, 'train')"
   ]
  },
  {
   "cell_type": "code",
   "execution_count": 5,
   "id": "5ccb48e0",
   "metadata": {
    "execution": {
     "iopub.execute_input": "2022-11-21T22:11:30.756624Z",
     "iopub.status.busy": "2022-11-21T22:11:30.756298Z",
     "iopub.status.idle": "2022-11-21T22:11:31.144704Z",
     "shell.execute_reply": "2022-11-21T22:11:31.143692Z"
    },
    "id": "6e11d00c",
    "outputId": "ecbb4422-a909-4858-9693-fc5a03c6316c",
    "papermill": {
     "duration": 0.489592,
     "end_time": "2022-11-21T22:11:31.147365",
     "exception": false,
     "start_time": "2022-11-21T22:11:30.657773",
     "status": "completed"
    },
    "tags": []
   },
   "outputs": [
    {
     "name": "stdout",
     "output_type": "stream",
     "text": [
      "train/BTCUSDT/BTCUSDT-15m-2019-01.csv\n",
      "train/BTCUSDT/BTCUSDT-15m-2019-02.csv\n",
      "train/BTCUSDT/BTCUSDT-15m-2019-03.csv\n",
      "train/BTCUSDT/BTCUSDT-15m-2019-04.csv\n",
      "train/BTCUSDT/BTCUSDT-15m-2019-05.csv\n",
      "train/BTCUSDT/BTCUSDT-15m-2019-06.csv\n",
      "train/BTCUSDT/BTCUSDT-15m-2019-07.csv\n",
      "train/BTCUSDT/BTCUSDT-15m-2019-08.csv\n",
      "train/BTCUSDT/BTCUSDT-15m-2019-09.csv\n",
      "train/BTCUSDT/BTCUSDT-15m-2019-10.csv\n",
      "train/BTCUSDT/BTCUSDT-15m-2019-11.csv\n",
      "train/BTCUSDT/BTCUSDT-15m-2019-12.csv\n",
      "train/BTCUSDT/BTCUSDT-15m-2020-01.csv\n",
      "train/BTCUSDT/BTCUSDT-15m-2020-02.csv\n",
      "train/BTCUSDT/BTCUSDT-15m-2020-03.csv\n",
      "train/BTCUSDT/BTCUSDT-15m-2020-04.csv\n",
      "train/BTCUSDT/BTCUSDT-15m-2020-05.csv\n",
      "train/BTCUSDT/BTCUSDT-15m-2020-06.csv\n",
      "train/BTCUSDT/BTCUSDT-15m-2020-07.csv\n",
      "train/BTCUSDT/BTCUSDT-15m-2020-08.csv\n",
      "train/BTCUSDT/BTCUSDT-15m-2020-09.csv\n",
      "train/BTCUSDT/BTCUSDT-15m-2020-10.csv\n",
      "train/BTCUSDT/BTCUSDT-15m-2020-11.csv\n",
      "train/BTCUSDT/BTCUSDT-15m-2020-12.csv\n",
      "train/BTCUSDT/BTCUSDT-15m-2021-01.csv\n",
      "train/BTCUSDT/BTCUSDT-15m-2021-02.csv\n",
      "train/BTCUSDT/BTCUSDT-15m-2021-03.csv\n",
      "train/BTCUSDT/BTCUSDT-15m-2021-04.csv\n",
      "train/BTCUSDT/BTCUSDT-15m-2021-05.csv\n",
      "train/BTCUSDT/BTCUSDT-15m-2021-06.csv\n",
      "train/BTCUSDT/BTCUSDT-15m-2021-07.csv\n",
      "train/BTCUSDT/BTCUSDT-15m-2021-08.csv\n",
      "train/BTCUSDT/BTCUSDT-15m-2021-09.csv\n",
      "train/BTCUSDT/BTCUSDT-15m-2021-10.csv\n",
      "train/BTCUSDT/BTCUSDT-15m-2021-11.csv\n",
      "train/BTCUSDT/BTCUSDT-15m-2021-12.csv\n",
      "train/BTCUSDT/BTCUSDT-15m-2022-01.csv\n",
      "train/BTCUSDT/BTCUSDT-15m-2022-02.csv\n",
      "train/BTCUSDT/BTCUSDT-15m-2022-03.csv\n",
      "train/BTCUSDT/BTCUSDT-15m-2022-04.csv\n",
      "train/BTCUSDT/BTCUSDT-15m-2022-05.csv\n",
      "train/BTCUSDT/BTCUSDT-15m-2022-06.csv\n",
      "train/BTCUSDT/BTCUSDT-15m-2022-07.csv\n",
      "train/BTCUSDT/BTCUSDT-15m-2022-08.csv\n",
      "train/BTCUSDT/BTCUSDT-15m-2022-09.csv\n",
      "train/BTCUSDT/BTCUSDT-15m-2022-10.csv\n"
     ]
    }
   ],
   "source": [
    "dataframe = get_data('train', BTC)"
   ]
  },
  {
   "cell_type": "code",
   "execution_count": 6,
   "id": "15291c58",
   "metadata": {
    "execution": {
     "iopub.execute_input": "2022-11-21T22:11:31.345414Z",
     "iopub.status.busy": "2022-11-21T22:11:31.345084Z",
     "iopub.status.idle": "2022-11-21T22:11:35.447313Z",
     "shell.execute_reply": "2022-11-21T22:11:35.446418Z"
    },
    "id": "e051f78b",
    "outputId": "3efb2943-dcd7-4f9d-bfd5-18f01a0b24e6",
    "papermill": {
     "duration": 4.203911,
     "end_time": "2022-11-21T22:11:35.450180",
     "exception": false,
     "start_time": "2022-11-21T22:11:31.246269",
     "status": "completed"
    },
    "tags": []
   },
   "outputs": [
    {
     "data": {
      "image/png": "[encoded data removed]",
      "text/plain": [
       "<Figure size 1440x720 with 1 Axes>"
      ]
     },
     "metadata": {},
     "output_type": "display_data"
    }
   ],
   "source": [
    "dataframe = dataframe[dataframe[IGNORE_INDEX] == 0]\n",
    "plot_graph(pd.DataFrame(dataframe[CLOSE_INDEX].values))"
   ]
  },
  {
   "cell_type": "code",
   "execution_count": 7,
   "id": "f026d9a5",
   "metadata": {
    "execution": {
     "iopub.execute_input": "2022-11-21T22:11:35.650545Z",
     "iopub.status.busy": "2022-11-21T22:11:35.650181Z",
     "iopub.status.idle": "2022-11-21T22:11:35.662693Z",
     "shell.execute_reply": "2022-11-21T22:11:35.661780Z"
    },
    "id": "592b704f",
    "papermill": {
     "duration": 0.114216,
     "end_time": "2022-11-21T22:11:35.664728",
     "exception": false,
     "start_time": "2022-11-21T22:11:35.550512",
     "status": "completed"
    },
    "tags": []
   },
   "outputs": [],
   "source": [
    "scalers = {}\n",
    "for col in columns:\n",
    "    scaler = MinMaxScaler().fit(dataframe[[col]])\n",
    "    dataframe[col] = scaler.transform(dataframe[[col]])\n",
    "    scalers[col] = scaler\n",
    "\n",
    "dataframe = dataframe[columns]"
   ]
  },
  {
   "cell_type": "code",
   "execution_count": 8,
   "id": "135a7c1a",
   "metadata": {
    "execution": {
     "iopub.execute_input": "2022-11-21T22:11:35.862989Z",
     "iopub.status.busy": "2022-11-21T22:11:35.862190Z",
     "iopub.status.idle": "2022-11-21T22:11:35.986492Z",
     "shell.execute_reply": "2022-11-21T22:11:35.983746Z"
    },
    "id": "2d43fcfd",
    "outputId": "3b166234-759b-4519-86a5-0c095bc7d884",
    "papermill": {
     "duration": 0.226588,
     "end_time": "2022-11-21T22:11:35.989558",
     "exception": false,
     "start_time": "2022-11-21T22:11:35.762970",
     "status": "completed"
    },
    "tags": []
   },
   "outputs": [
    {
     "name": "stdout",
     "output_type": "stream",
     "text": [
      "x_train.shape = (120668, 60, 1)\n",
      "y_train.shape = (120668,)\n",
      "x_test.shape = (13407, 60, 1)\n",
      "y_test.shape = (13407,)\n"
     ]
    }
   ],
   "source": [
    "x_train, y_train, x_test, y_test = split_data(dataframe, LOOKBACK, TRAIN_SPLIT_RATIO, CLOSE_INDEX-1)\n",
    "\n",
    "print('x_train.shape = {}'.format(x_train.shape))\n",
    "print('y_train.shape = {}'.format(y_train.shape))\n",
    "print('x_test.shape = {}'.format(x_test.shape))\n",
    "print('y_test.shape = {}'.format(y_test.shape))"
   ]
  },
  {
   "cell_type": "code",
   "execution_count": 9,
   "id": "a94d597b",
   "metadata": {
    "execution": {
     "iopub.execute_input": "2022-11-21T22:11:36.216265Z",
     "iopub.status.busy": "2022-11-21T22:11:36.215760Z",
     "iopub.status.idle": "2022-11-21T22:11:41.629515Z",
     "shell.execute_reply": "2022-11-21T22:11:41.628487Z"
    },
    "id": "43239a43",
    "papermill": {
     "duration": 5.541411,
     "end_time": "2022-11-21T22:11:41.631833",
     "exception": false,
     "start_time": "2022-11-21T22:11:36.090422",
     "status": "completed"
    },
    "tags": []
   },
   "outputs": [
    {
     "name": "stderr",
     "output_type": "stream",
     "text": [
      "2022-11-21 22:11:36.223105: I tensorflow/core/platform/cpu_feature_guard.cc:142] This TensorFlow binary is optimized with oneAPI Deep Neural Network Library (oneDNN) to use the following CPU instructions in performance-critical operations:  AVX2 AVX512F FMA\n",
      "To enable them in other operations, rebuild TensorFlow with the appropriate compiler flags.\n",
      "2022-11-21 22:11:36.224111: I tensorflow/stream_executor/cuda/cuda_gpu_executor.cc:937] successful NUMA node read from SysFS had negative value (-1), but there must be at least one NUMA node, so returning NUMA node zero\n",
      "2022-11-21 22:11:36.225579: I tensorflow/stream_executor/cuda/cuda_gpu_executor.cc:937] successful NUMA node read from SysFS had negative value (-1), but there must be at least one NUMA node, so returning NUMA node zero\n",
      "2022-11-21 22:11:36.226727: I tensorflow/stream_executor/cuda/cuda_gpu_executor.cc:937] successful NUMA node read from SysFS had negative value (-1), but there must be at least one NUMA node, so returning NUMA node zero\n",
      "2022-11-21 22:11:41.211557: I tensorflow/stream_executor/cuda/cuda_gpu_executor.cc:937] successful NUMA node read from SysFS had negative value (-1), but there must be at least one NUMA node, so returning NUMA node zero\n",
      "2022-11-21 22:11:41.212463: I tensorflow/stream_executor/cuda/cuda_gpu_executor.cc:937] successful NUMA node read from SysFS had negative value (-1), but there must be at least one NUMA node, so returning NUMA node zero\n",
      "2022-11-21 22:11:41.213145: I tensorflow/stream_executor/cuda/cuda_gpu_executor.cc:937] successful NUMA node read from SysFS had negative value (-1), but there must be at least one NUMA node, so returning NUMA node zero\n",
      "2022-11-21 22:11:41.213751: I tensorflow/core/common_runtime/gpu/gpu_device.cc:1510] Created device /job:localhost/replica:0/task:0/device:GPU:0 with 15043 MB memory:  -> device: 0, name: Tesla P100-PCIE-16GB, pci bus id: 0000:00:04.0, compute capability: 6.0\n"
     ]
    }
   ],
   "source": [
    "x_train = torch.tensor(x_train, dtype=torch.float)\n",
    "x_test = torch.tensor(x_test, dtype=torch.float)\n",
    "y_train = torch.tensor(y_train, dtype=torch.float)\n",
    "y_test = torch.tensor(y_test, dtype=torch.float)"
   ]
  },
  {
   "cell_type": "code",
   "execution_count": 10,
   "id": "58c66312",
   "metadata": {
    "execution": {
     "iopub.execute_input": "2022-11-21T22:11:41.830088Z",
     "iopub.status.busy": "2022-11-21T22:11:41.829764Z",
     "iopub.status.idle": "2022-11-21T22:11:41.834409Z",
     "shell.execute_reply": "2022-11-21T22:11:41.833494Z"
    },
    "id": "4c641daf",
    "papermill": {
     "duration": 0.105222,
     "end_time": "2022-11-21T22:11:41.836491",
     "exception": false,
     "start_time": "2022-11-21T22:11:41.731269",
     "status": "completed"
    },
    "tags": []
   },
   "outputs": [],
   "source": [
    "input_dim = x_train.shape[1]\n",
    "output_dim = 1\n",
    "\n",
    "batch_size = 64"
   ]
  },
  {
   "cell_type": "code",
   "execution_count": null,
   "id": "239543b2",
   "metadata": {},
   "outputs": [],
   "source": [
    "train_dataset = CryptocurrencyDataset(x_train, y_train)\n",
    "train_loader = DataLoader(train_dataset, batch_size=batch_size)"
   ]
  },
  {
   "cell_type": "code",
   "execution_count": null,
   "id": "0aa52d8e",
   "metadata": {},
   "outputs": [],
   "source": [
    "test_dataset = CryptocurrencyDataset(x_test, y_test)\n",
    "test_loader = DataLoader(test_dataset, batch_size=batch_size)"
   ]
  },
  {
   "cell_type": "code",
   "execution_count": 11,
   "id": "04253894",
   "metadata": {
    "execution": {
     "iopub.execute_input": "2022-11-21T22:11:42.035342Z",
     "iopub.status.busy": "2022-11-21T22:11:42.035023Z",
     "iopub.status.idle": "2022-11-21T22:11:43.138649Z",
     "shell.execute_reply": "2022-11-21T22:11:43.137508Z"
    },
    "id": "245196bc",
    "outputId": "5dc69d7a-f2d8-4e72-92aa-1deae1b559c6",
    "papermill": {
     "duration": 1.206906,
     "end_time": "2022-11-21T22:11:43.141263",
     "exception": false,
     "start_time": "2022-11-21T22:11:41.934357",
     "status": "completed"
    },
    "tags": []
   },
   "outputs": [
    {
     "name": "stdout",
     "output_type": "stream",
     "text": [
      "Model: \"sequential\"\n",
      "_________________________________________________________________\n",
      "Layer (type)                 Output Shape              Param #   \n",
      "=================================================================\n",
      "lstm (LSTM)                  (None, 256)               264192    \n",
      "_________________________________________________________________\n",
      "dense (Dense)                (None, 1)                 257       \n",
      "=================================================================\n",
      "Total params: 264,449\n",
      "Trainable params: 264,449\n",
      "Non-trainable params: 0\n",
      "_________________________________________________________________\n"
     ]
    }
   ],
   "source": [
    "class LSTM_1(nn.Module):\n",
    "    def __init__(self, input_shape, output_shape):\n",
    "        super(LSTM_1, self).__init__()\n",
    "\n",
    "        self.lstm1 = nn.LSTM(60, 256, batch_first=True)\n",
    "        self.fc1 = nn.Linear(256, 1)\n",
    "        \n",
    "    def observe_outputs(self, x):\n",
    "        x, _ = self.lstm1(x)\n",
    "        print('After lstm1: {}'.format(x.size()))\n",
    "\n",
    "        x = self.fc1(x[:, -1, :])\n",
    "        print('After fc2: {}'.format(x.size()))\n",
    "        \n",
    "    def forward(self, x):\n",
    "        out, _ = self.lstm1(out)\n",
    "        out = self.fc1(out[:, -1, :])\n",
    "\n",
    "        return out"
   ]
  },
  {
   "cell_type": "code",
   "execution_count": 12,
   "id": "a2fe44e2",
   "metadata": {
    "execution": {
     "iopub.execute_input": "2022-11-21T22:11:43.396661Z",
     "iopub.status.busy": "2022-11-21T22:11:43.395545Z",
     "iopub.status.idle": "2022-11-21T22:11:43.413084Z",
     "shell.execute_reply": "2022-11-21T22:11:43.412060Z"
    },
    "id": "00ZMe27NrFCu",
    "papermill": {
     "duration": 0.119779,
     "end_time": "2022-11-21T22:11:43.415192",
     "exception": false,
     "start_time": "2022-11-21T22:11:43.295413",
     "status": "completed"
    },
    "tags": []
   },
   "outputs": [],
   "source": [
    "def test_forward():\n",
    "    lstm_1 = LSTM_1(input_dim, output_dim).to(device)\n",
    "\n",
    "    x = torch.randn(32, 60, 5).to(device)\n",
    "    with torch.no_grad():\n",
    "        lstm_1.observe_outputs(x)\n",
    "\n",
    "test_forward()"
   ]
  },
  {
   "cell_type": "code",
   "execution_count": 13,
   "id": "8b31f6e1",
   "metadata": {
    "execution": {
     "iopub.execute_input": "2022-11-21T22:11:43.617339Z",
     "iopub.status.busy": "2022-11-21T22:11:43.614950Z",
     "iopub.status.idle": "2022-11-21T22:16:07.056388Z",
     "shell.execute_reply": "2022-11-21T22:16:07.055346Z"
    },
    "id": "fFFWdNiLtBCC",
    "outputId": "441bc608-9ff2-47bd-caa2-2db5e2e00a96",
    "papermill": {
     "duration": 263.859583,
     "end_time": "2022-11-21T22:16:07.374019",
     "exception": false,
     "start_time": "2022-11-21T22:11:43.514436",
     "status": "completed"
    },
    "tags": []
   },
   "outputs": [
    {
     "name": "stderr",
     "output_type": "stream",
     "text": [
      "2022-11-21 22:11:43.688409: I tensorflow/compiler/mlir/mlir_graph_optimization_pass.cc:185] None of the MLIR Optimization Passes are enabled (registered 2)\n"
     ]
    },
    {
     "name": "stdout",
     "output_type": "stream",
     "text": [
      "Epoch 1/10\n"
     ]
    },
    {
     "name": "stderr",
     "output_type": "stream",
     "text": [
      "2022-11-21 22:11:46.106348: I tensorflow/stream_executor/cuda/cuda_dnn.cc:369] Loaded cuDNN version 8005\n"
     ]
    },
    {
     "name": "stdout",
     "output_type": "stream",
     "text": [
      "3771/3771 [==============================] - 27s 6ms/step - loss: 0.0043 - root_mean_squared_error: 0.0158\n",
      "Epoch 2/10\n",
      "3771/3771 [==============================] - 23s 6ms/step - loss: 0.0023 - root_mean_squared_error: 0.0037\n",
      "Epoch 3/10\n",
      "3771/3771 [==============================] - 23s 6ms/step - loss: 0.0019 - root_mean_squared_error: 0.0030\n",
      "Epoch 4/10\n",
      "3771/3771 [==============================] - 23s 6ms/step - loss: 0.0017 - root_mean_squared_error: 0.0028\n",
      "Epoch 5/10\n",
      "3771/3771 [==============================] - 23s 6ms/step - loss: 0.0017 - root_mean_squared_error: 0.0027\n",
      "Epoch 6/10\n",
      "3771/3771 [==============================] - 23s 6ms/step - loss: 0.0015 - root_mean_squared_error: 0.0025\n",
      "Epoch 7/10\n",
      "3771/3771 [==============================] - 23s 6ms/step - loss: 0.0015 - root_mean_squared_error: 0.0025\n",
      "Epoch 8/10\n",
      "3771/3771 [==============================] - 23s 6ms/step - loss: 0.0015 - root_mean_squared_error: 0.0025\n",
      "Epoch 9/10\n",
      "3771/3771 [==============================] - 23s 6ms/step - loss: 0.0014 - root_mean_squared_error: 0.0024\n",
      "Epoch 10/10\n",
      "3771/3771 [==============================] - 23s 6ms/step - loss: 0.0014 - root_mean_squared_error: 0.0024\n"
     ]
    },
    {
     "data": {
      "text/plain": [
       "<keras.callbacks.History at 0x7f0b1c3fc610>"
      ]
     },
     "execution_count": 13,
     "metadata": {},
     "output_type": "execute_result"
    }
   ],
   "source": [
    "num_params = count_parameters(LSTM_1(input_dim, output_dim))\n",
    "print('Total number of parameters: {}'.format(num_params))"
   ]
  },
  {
   "cell_type": "code",
   "execution_count": null,
   "id": "b2afb8df",
   "metadata": {},
   "outputs": [],
   "source": [
    "lstm_1 = LSTM_1(input_dim, output_dim).to(device)\n",
    "\n",
    "optimizer = torch.optim.Adam(lstm_1.parameters(), lr=0.001)\n",
    "\n",
    "loss = nn.MSELoss()\n",
    "\n",
    "print(lstm_1)"
   ]
  },
  {
   "cell_type": "code",
   "execution_count": null,
   "id": "df532cf9",
   "metadata": {},
   "outputs": [],
   "source": [
    "history = model_train(lstm_1, optimizer, loss, 20, train_loader, device)"
   ]
  },
  {
   "cell_type": "code",
   "execution_count": null,
   "id": "4f6882e3",
   "metadata": {},
   "outputs": [],
   "source": [
    "y_train_pred = model_predictions(lstm_1, train_loader, device, scalers[CLOSE_INDEX])"
   ]
  },
  {
   "cell_type": "code",
   "execution_count": null,
   "id": "0d591357",
   "metadata": {},
   "outputs": [],
   "source": [
    "y_test_pred = model_predictions(lstm_1, test_loader, device, scalers[CLOSE_INDEX])"
   ]
  },
  {
   "cell_type": "code",
   "execution_count": null,
   "id": "0ce0f10e",
   "metadata": {},
   "outputs": [],
   "source": [
    "rmse(y_train.detach().cpu().numpy(), y_train_pred, 'Train')\n",
    "rmse(y_test.detach().cpu().numpy(), y_test_pred, 'Test')"
   ]
  }
 ],
 "metadata": {
  "kernelspec": {
   "display_name": "Python 3.9.10 64-bit",
   "language": "python",
   "name": "python3"
  },
  "language_info": {
   "codemirror_mode": {
    "name": "ipython",
    "version": 3
   },
   "file_extension": ".py",
   "mimetype": "text/x-python",
   "name": "python",
   "nbconvert_exporter": "python",
   "pygments_lexer": "ipython3",
   "version": "3.9.13"
  },
  "papermill": {
   "default_parameters": {},
   "duration": 1555.9126,
   "end_time": "2022-11-21T22:35:51.834138",
   "environment_variables": {},
   "exception": null,
   "input_path": "__notebook__.ipynb",
   "output_path": "__notebook__.ipynb",
   "parameters": {},
   "start_time": "2022-11-21T22:09:55.921538",
   "version": "2.3.4"
  },
  "vscode": {
   "interpreter": {
    "hash": "aee8b7b246df8f9039afb4144a1f6fd8d2ca17a180786b69acc140d282b71a49"
   }
  }
 },
 "nbformat": 4,
 "nbformat_minor": 5
}
